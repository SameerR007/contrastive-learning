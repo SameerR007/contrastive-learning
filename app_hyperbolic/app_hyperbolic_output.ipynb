{
 "cells": [
  {
   "cell_type": "code",
   "execution_count": 1,
   "id": "99932795",
   "metadata": {
    "execution": {
     "iopub.execute_input": "2024-12-17T01:00:53.095756Z",
     "iopub.status.busy": "2024-12-17T01:00:53.095478Z",
     "iopub.status.idle": "2024-12-17T01:00:54.077269Z",
     "shell.execute_reply": "2024-12-17T01:00:54.076823Z"
    },
    "papermill": {
     "duration": 0.987293,
     "end_time": "2024-12-17T01:00:54.077976",
     "exception": false,
     "start_time": "2024-12-17T01:00:53.090683",
     "status": "completed"
    },
    "tags": []
   },
   "outputs": [],
   "source": [
    "from datasets import load_dataset"
   ]
  },
  {
   "cell_type": "code",
   "execution_count": 2,
   "id": "64f97ef7",
   "metadata": {
    "execution": {
     "iopub.execute_input": "2024-12-17T01:00:54.086455Z",
     "iopub.status.busy": "2024-12-17T01:00:54.086123Z",
     "iopub.status.idle": "2024-12-17T01:00:58.795616Z",
     "shell.execute_reply": "2024-12-17T01:00:58.795198Z"
    },
    "papermill": {
     "duration": 4.715468,
     "end_time": "2024-12-17T01:00:58.797571",
     "exception": false,
     "start_time": "2024-12-17T01:00:54.082103",
     "status": "completed"
    },
    "tags": []
   },
   "outputs": [],
   "source": [
    "dataset = load_dataset('ms_marco', 'v1.1')"
   ]
  },
  {
   "cell_type": "code",
   "execution_count": 3,
   "id": "d15dc501",
   "metadata": {
    "execution": {
     "iopub.execute_input": "2024-12-17T01:00:58.807863Z",
     "iopub.status.busy": "2024-12-17T01:00:58.807616Z",
     "iopub.status.idle": "2024-12-17T01:00:58.811918Z",
     "shell.execute_reply": "2024-12-17T01:00:58.811578Z"
    },
    "papermill": {
     "duration": 0.009034,
     "end_time": "2024-12-17T01:00:58.812518",
     "exception": false,
     "start_time": "2024-12-17T01:00:58.803484",
     "status": "completed"
    },
    "tags": []
   },
   "outputs": [
    {
     "data": {
      "text/plain": [
       "DatasetDict({\n",
       "    validation: Dataset({\n",
       "        features: ['answers', 'passages', 'query', 'query_id', 'query_type', 'wellFormedAnswers'],\n",
       "        num_rows: 10047\n",
       "    })\n",
       "    train: Dataset({\n",
       "        features: ['answers', 'passages', 'query', 'query_id', 'query_type', 'wellFormedAnswers'],\n",
       "        num_rows: 82326\n",
       "    })\n",
       "    test: Dataset({\n",
       "        features: ['answers', 'passages', 'query', 'query_id', 'query_type', 'wellFormedAnswers'],\n",
       "        num_rows: 9650\n",
       "    })\n",
       "})"
      ]
     },
     "execution_count": 3,
     "metadata": {},
     "output_type": "execute_result"
    }
   ],
   "source": [
    "dataset"
   ]
  },
  {
   "cell_type": "code",
   "execution_count": 4,
   "id": "0ca71417",
   "metadata": {
    "execution": {
     "iopub.execute_input": "2024-12-17T01:00:58.820768Z",
     "iopub.status.busy": "2024-12-17T01:00:58.820541Z",
     "iopub.status.idle": "2024-12-17T01:01:01.596145Z",
     "shell.execute_reply": "2024-12-17T01:01:01.595715Z"
    },
    "papermill": {
     "duration": 2.780526,
     "end_time": "2024-12-17T01:01:01.596959",
     "exception": false,
     "start_time": "2024-12-17T01:00:58.816433",
     "status": "completed"
    },
    "tags": []
   },
   "outputs": [],
   "source": [
    "dataset_train = load_dataset('ms_marco', 'v1.1', split='train')"
   ]
  },
  {
   "cell_type": "code",
   "execution_count": 5,
   "id": "cea69422",
   "metadata": {
    "execution": {
     "iopub.execute_input": "2024-12-17T01:01:01.605823Z",
     "iopub.status.busy": "2024-12-17T01:01:01.605583Z",
     "iopub.status.idle": "2024-12-17T01:01:01.608363Z",
     "shell.execute_reply": "2024-12-17T01:01:01.608016Z"
    },
    "papermill": {
     "duration": 0.007573,
     "end_time": "2024-12-17T01:01:01.608966",
     "exception": false,
     "start_time": "2024-12-17T01:01:01.601393",
     "status": "completed"
    },
    "tags": []
   },
   "outputs": [
    {
     "data": {
      "text/plain": [
       "Dataset({\n",
       "    features: ['answers', 'passages', 'query', 'query_id', 'query_type', 'wellFormedAnswers'],\n",
       "    num_rows: 82326\n",
       "})"
      ]
     },
     "execution_count": 5,
     "metadata": {},
     "output_type": "execute_result"
    }
   ],
   "source": [
    "dataset_train"
   ]
  },
  {
   "cell_type": "code",
   "execution_count": 6,
   "id": "69380187",
   "metadata": {
    "execution": {
     "iopub.execute_input": "2024-12-17T01:01:01.617337Z",
     "iopub.status.busy": "2024-12-17T01:01:01.617111Z",
     "iopub.status.idle": "2024-12-17T01:01:01.620368Z",
     "shell.execute_reply": "2024-12-17T01:01:01.620015Z"
    },
    "papermill": {
     "duration": 0.008002,
     "end_time": "2024-12-17T01:01:01.620899",
     "exception": false,
     "start_time": "2024-12-17T01:01:01.612897",
     "status": "completed"
    },
    "tags": []
   },
   "outputs": [],
   "source": [
    "def preprocess(example):\n",
    "    positive_passages=[]\n",
    "    for p in enumerate(example['passages'][\"is_selected\"]):\n",
    "        if p[1]==1:\n",
    "            positive_passages.append(example[\"passages\"][\"passage_text\"][p[0]])\n",
    "    negative_passages = []\n",
    "    for p in enumerate(example['passages'][\"is_selected\"]):\n",
    "        if p[1]==0:\n",
    "            negative_passages.append(example[\"passages\"][\"passage_text\"][p[0]])\n",
    "    if (len(positive_passages)>0 and len(negative_passages)>=5):\n",
    "        positive = positive_passages[0]\n",
    "        negatives = negative_passages[:5]\n",
    "        return {\n",
    "            \"query\": example[\"query\"],\n",
    "            \"positive\": positive,\n",
    "            \"negatives\": negatives\n",
    "        }\n",
    "    else:\n",
    "        return {\"query\": None, \"positive\": None, \"negatives\": None}"
   ]
  },
  {
   "cell_type": "code",
   "execution_count": 7,
   "id": "2772a1ca",
   "metadata": {
    "execution": {
     "iopub.execute_input": "2024-12-17T01:01:01.629311Z",
     "iopub.status.busy": "2024-12-17T01:01:01.629027Z",
     "iopub.status.idle": "2024-12-17T01:01:01.634561Z",
     "shell.execute_reply": "2024-12-17T01:01:01.634217Z"
    },
    "papermill": {
     "duration": 0.010246,
     "end_time": "2024-12-17T01:01:01.635086",
     "exception": false,
     "start_time": "2024-12-17T01:01:01.624840",
     "status": "completed"
    },
    "tags": []
   },
   "outputs": [],
   "source": [
    "processed_data_train = dataset_train.map(preprocess, remove_columns=dataset_train.column_names)"
   ]
  },
  {
   "cell_type": "code",
   "execution_count": 8,
   "id": "9d876602",
   "metadata": {
    "execution": {
     "iopub.execute_input": "2024-12-17T01:01:01.643426Z",
     "iopub.status.busy": "2024-12-17T01:01:01.643298Z",
     "iopub.status.idle": "2024-12-17T01:01:01.647576Z",
     "shell.execute_reply": "2024-12-17T01:01:01.647229Z"
    },
    "papermill": {
     "duration": 0.009076,
     "end_time": "2024-12-17T01:01:01.648116",
     "exception": false,
     "start_time": "2024-12-17T01:01:01.639040",
     "status": "completed"
    },
    "tags": []
   },
   "outputs": [],
   "source": [
    "processed_data_train = processed_data_train.filter(lambda x: x['query'] is not None and x['positive'] is not None)"
   ]
  },
  {
   "cell_type": "code",
   "execution_count": 9,
   "id": "29513c81",
   "metadata": {
    "execution": {
     "iopub.execute_input": "2024-12-17T01:01:01.656671Z",
     "iopub.status.busy": "2024-12-17T01:01:01.656369Z",
     "iopub.status.idle": "2024-12-17T01:01:06.918929Z",
     "shell.execute_reply": "2024-12-17T01:01:06.918153Z"
    },
    "papermill": {
     "duration": 5.267847,
     "end_time": "2024-12-17T01:01:06.919970",
     "exception": false,
     "start_time": "2024-12-17T01:01:01.652123",
     "status": "completed"
    },
    "tags": []
   },
   "outputs": [],
   "source": [
    "contrastive_pairs_train = []\n",
    "for item in processed_data_train:\n",
    "    query = item[\"query\"]\n",
    "    positive = item[\"positive\"]\n",
    "    negatives = item[\"negatives\"]\n",
    "    contrastive_pairs_train.append({\n",
    "        \"anchor\": query,\n",
    "        \"positive\": positive,\n",
    "        \"negatives\": negatives\n",
    "    })"
   ]
  },
  {
   "cell_type": "code",
   "execution_count": 10,
   "id": "8a48c1bc",
   "metadata": {
    "execution": {
     "iopub.execute_input": "2024-12-17T01:01:06.931265Z",
     "iopub.status.busy": "2024-12-17T01:01:06.930960Z",
     "iopub.status.idle": "2024-12-17T01:01:06.934453Z",
     "shell.execute_reply": "2024-12-17T01:01:06.934108Z"
    },
    "papermill": {
     "duration": 0.008562,
     "end_time": "2024-12-17T01:01:06.934981",
     "exception": false,
     "start_time": "2024-12-17T01:01:06.926419",
     "status": "completed"
    },
    "tags": []
   },
   "outputs": [
    {
     "data": {
      "text/plain": [
       "74538"
      ]
     },
     "execution_count": 10,
     "metadata": {},
     "output_type": "execute_result"
    }
   ],
   "source": [
    "len(contrastive_pairs_train)"
   ]
  },
  {
   "cell_type": "code",
   "execution_count": 11,
   "id": "8463c27d",
   "metadata": {
    "execution": {
     "iopub.execute_input": "2024-12-17T01:01:06.945505Z",
     "iopub.status.busy": "2024-12-17T01:01:06.945218Z",
     "iopub.status.idle": "2024-12-17T01:01:09.337803Z",
     "shell.execute_reply": "2024-12-17T01:01:09.337284Z"
    },
    "papermill": {
     "duration": 2.398949,
     "end_time": "2024-12-17T01:01:09.338548",
     "exception": false,
     "start_time": "2024-12-17T01:01:06.939599",
     "status": "completed"
    },
    "tags": []
   },
   "outputs": [],
   "source": [
    "from torch.utils.data import DataLoader"
   ]
  },
  {
   "cell_type": "code",
   "execution_count": 12,
   "id": "4442f1a5",
   "metadata": {
    "execution": {
     "iopub.execute_input": "2024-12-17T01:01:09.347449Z",
     "iopub.status.busy": "2024-12-17T01:01:09.347214Z",
     "iopub.status.idle": "2024-12-17T01:01:09.350113Z",
     "shell.execute_reply": "2024-12-17T01:01:09.349759Z"
    },
    "papermill": {
     "duration": 0.007868,
     "end_time": "2024-12-17T01:01:09.350645",
     "exception": false,
     "start_time": "2024-12-17T01:01:09.342777",
     "status": "completed"
    },
    "tags": []
   },
   "outputs": [],
   "source": [
    "class ContrastiveDataset:\n",
    "    def __init__(self, pairs):\n",
    "        self.pairs = pairs\n",
    "\n",
    "    def __len__(self):\n",
    "        return len(self.pairs)\n",
    "\n",
    "    def __getitem__(self, idx):\n",
    "        item = self.pairs[idx]\n",
    "        return item[\"anchor\"], item[\"positive\"], item[\"negatives\"]"
   ]
  },
  {
   "cell_type": "code",
   "execution_count": 13,
   "id": "25a8835a",
   "metadata": {
    "execution": {
     "iopub.execute_input": "2024-12-17T01:01:09.359251Z",
     "iopub.status.busy": "2024-12-17T01:01:09.359117Z",
     "iopub.status.idle": "2024-12-17T01:01:09.361137Z",
     "shell.execute_reply": "2024-12-17T01:01:09.360797Z"
    },
    "papermill": {
     "duration": 0.006985,
     "end_time": "2024-12-17T01:01:09.361723",
     "exception": false,
     "start_time": "2024-12-17T01:01:09.354738",
     "status": "completed"
    },
    "tags": []
   },
   "outputs": [],
   "source": [
    "contrastive_dataset_train = ContrastiveDataset(contrastive_pairs_train)"
   ]
  },
  {
   "cell_type": "code",
   "execution_count": 14,
   "id": "43edcaf2",
   "metadata": {
    "execution": {
     "iopub.execute_input": "2024-12-17T01:01:09.370465Z",
     "iopub.status.busy": "2024-12-17T01:01:09.370201Z",
     "iopub.status.idle": "2024-12-17T01:01:09.372427Z",
     "shell.execute_reply": "2024-12-17T01:01:09.372081Z"
    },
    "papermill": {
     "duration": 0.007157,
     "end_time": "2024-12-17T01:01:09.372995",
     "exception": false,
     "start_time": "2024-12-17T01:01:09.365838",
     "status": "completed"
    },
    "tags": []
   },
   "outputs": [],
   "source": [
    "\n",
    "data_loader_train = DataLoader(contrastive_dataset_train, batch_size=32, shuffle=True)"
   ]
  },
  {
   "cell_type": "code",
   "execution_count": 15,
   "id": "557a1c1e",
   "metadata": {
    "execution": {
     "iopub.execute_input": "2024-12-17T01:01:09.381758Z",
     "iopub.status.busy": "2024-12-17T01:01:09.381495Z",
     "iopub.status.idle": "2024-12-17T01:01:09.384182Z",
     "shell.execute_reply": "2024-12-17T01:01:09.383836Z"
    },
    "papermill": {
     "duration": 0.007608,
     "end_time": "2024-12-17T01:01:09.384740",
     "exception": false,
     "start_time": "2024-12-17T01:01:09.377132",
     "status": "completed"
    },
    "tags": []
   },
   "outputs": [
    {
     "data": {
      "text/plain": [
       "2330"
      ]
     },
     "execution_count": 15,
     "metadata": {},
     "output_type": "execute_result"
    }
   ],
   "source": [
    "len(data_loader_train)"
   ]
  },
  {
   "cell_type": "code",
   "execution_count": 16,
   "id": "70c236d2",
   "metadata": {
    "execution": {
     "iopub.execute_input": "2024-12-17T01:01:09.393641Z",
     "iopub.status.busy": "2024-12-17T01:01:09.393376Z",
     "iopub.status.idle": "2024-12-17T01:01:11.112550Z",
     "shell.execute_reply": "2024-12-17T01:01:11.111948Z"
    },
    "papermill": {
     "duration": 1.724301,
     "end_time": "2024-12-17T01:01:11.113247",
     "exception": false,
     "start_time": "2024-12-17T01:01:09.388946",
     "status": "completed"
    },
    "tags": []
   },
   "outputs": [],
   "source": [
    "from transformers import AutoTokenizer, AutoModel\n",
    "tokenizer = AutoTokenizer.from_pretrained(\"bert-base-uncased\")"
   ]
  },
  {
   "cell_type": "code",
   "execution_count": 17,
   "id": "282e0877",
   "metadata": {
    "execution": {
     "iopub.execute_input": "2024-12-17T01:01:11.122850Z",
     "iopub.status.busy": "2024-12-17T01:01:11.122361Z",
     "iopub.status.idle": "2024-12-17T01:01:11.536416Z",
     "shell.execute_reply": "2024-12-17T01:01:11.535928Z"
    },
    "papermill": {
     "duration": 0.419348,
     "end_time": "2024-12-17T01:01:11.537067",
     "exception": false,
     "start_time": "2024-12-17T01:01:11.117719",
     "status": "completed"
    },
    "tags": []
   },
   "outputs": [],
   "source": [
    "model = AutoModel.from_pretrained(\"bert-base-uncased\")"
   ]
  },
  {
   "cell_type": "code",
   "execution_count": 18,
   "id": "826a40b2",
   "metadata": {
    "execution": {
     "iopub.execute_input": "2024-12-17T01:01:11.546350Z",
     "iopub.status.busy": "2024-12-17T01:01:11.546033Z",
     "iopub.status.idle": "2024-12-17T01:01:11.627044Z",
     "shell.execute_reply": "2024-12-17T01:01:11.626608Z"
    },
    "papermill": {
     "duration": 0.086167,
     "end_time": "2024-12-17T01:01:11.627636",
     "exception": false,
     "start_time": "2024-12-17T01:01:11.541469",
     "status": "completed"
    },
    "tags": []
   },
   "outputs": [],
   "source": [
    "from peft import LoraConfig, get_peft_model"
   ]
  },
  {
   "cell_type": "code",
   "execution_count": 19,
   "id": "2d5710cf",
   "metadata": {
    "execution": {
     "iopub.execute_input": "2024-12-17T01:01:11.636722Z",
     "iopub.status.busy": "2024-12-17T01:01:11.636437Z",
     "iopub.status.idle": "2024-12-17T01:01:11.638535Z",
     "shell.execute_reply": "2024-12-17T01:01:11.638195Z"
    },
    "papermill": {
     "duration": 0.007179,
     "end_time": "2024-12-17T01:01:11.639082",
     "exception": false,
     "start_time": "2024-12-17T01:01:11.631903",
     "status": "completed"
    },
    "tags": []
   },
   "outputs": [],
   "source": [
    "lora_config = LoraConfig(\n",
    "    task_type= \"FEATURE_EXTRACTION\"\n",
    ")"
   ]
  },
  {
   "cell_type": "code",
   "execution_count": 20,
   "id": "cdfea418",
   "metadata": {
    "execution": {
     "iopub.execute_input": "2024-12-17T01:01:11.648137Z",
     "iopub.status.busy": "2024-12-17T01:01:11.647996Z",
     "iopub.status.idle": "2024-12-17T01:01:11.949145Z",
     "shell.execute_reply": "2024-12-17T01:01:11.948666Z"
    },
    "papermill": {
     "duration": 0.306548,
     "end_time": "2024-12-17T01:01:11.949989",
     "exception": false,
     "start_time": "2024-12-17T01:01:11.643441",
     "status": "completed"
    },
    "tags": []
   },
   "outputs": [],
   "source": [
    "lora_model = get_peft_model(model, lora_config)"
   ]
  },
  {
   "cell_type": "code",
   "execution_count": 21,
   "id": "e90ea24c",
   "metadata": {
    "execution": {
     "iopub.execute_input": "2024-12-17T01:01:11.959432Z",
     "iopub.status.busy": "2024-12-17T01:01:11.959122Z",
     "iopub.status.idle": "2024-12-17T01:01:11.961338Z",
     "shell.execute_reply": "2024-12-17T01:01:11.960995Z"
    },
    "papermill": {
     "duration": 0.007384,
     "end_time": "2024-12-17T01:01:11.961901",
     "exception": false,
     "start_time": "2024-12-17T01:01:11.954517",
     "status": "completed"
    },
    "tags": []
   },
   "outputs": [],
   "source": [
    "import torch\n",
    "import torch.nn as nn\n",
    "import torch.optim as optim"
   ]
  },
  {
   "cell_type": "code",
   "execution_count": 22,
   "id": "c919c858",
   "metadata": {
    "execution": {
     "iopub.execute_input": "2024-12-17T01:01:11.971019Z",
     "iopub.status.busy": "2024-12-17T01:01:11.970893Z",
     "iopub.status.idle": "2024-12-17T01:01:11.973574Z",
     "shell.execute_reply": "2024-12-17T01:01:11.973232Z"
    },
    "papermill": {
     "duration": 0.007894,
     "end_time": "2024-12-17T01:01:11.974122",
     "exception": false,
     "start_time": "2024-12-17T01:01:11.966228",
     "status": "completed"
    },
    "tags": []
   },
   "outputs": [],
   "source": [
    "class HyperbolicEmbeddingLayer(nn.Module):\n",
    "    def __init__(self, embed_dim):\n",
    "        super(HyperbolicEmbeddingLayer, self).__init__()\n",
    "        self.embed_dim = embed_dim\n",
    "        self.fc = nn.Linear(768, embed_dim)\n",
    "    def forward(self, x):\n",
    "        embedding = self.fc(x)\n",
    "        return embedding / torch.norm(embedding, dim=-1, keepdim=True)"
   ]
  },
  {
   "cell_type": "code",
   "execution_count": 23,
   "id": "fecc154f",
   "metadata": {
    "execution": {
     "iopub.execute_input": "2024-12-17T01:01:11.983351Z",
     "iopub.status.busy": "2024-12-17T01:01:11.983223Z",
     "iopub.status.idle": "2024-12-17T01:01:11.985691Z",
     "shell.execute_reply": "2024-12-17T01:01:11.985354Z"
    },
    "papermill": {
     "duration": 0.00778,
     "end_time": "2024-12-17T01:01:11.986209",
     "exception": false,
     "start_time": "2024-12-17T01:01:11.978429",
     "status": "completed"
    },
    "tags": []
   },
   "outputs": [],
   "source": [
    "def lorentzian_distance(x, y):\n",
    "    dot_product = torch.sum(x * y, dim=-1)\n",
    "    norm_x = torch.norm(x, dim=-1)\n",
    "    norm_y = torch.norm(y, dim=-1)\n",
    "    \n",
    "    distance = torch.acosh(-dot_product + torch.sqrt((1 + norm_x**2) * (1 + norm_y**2)))\n",
    "    return distance"
   ]
  },
  {
   "cell_type": "code",
   "execution_count": 24,
   "id": "68068cc3",
   "metadata": {
    "execution": {
     "iopub.execute_input": "2024-12-17T01:01:11.995466Z",
     "iopub.status.busy": "2024-12-17T01:01:11.995123Z",
     "iopub.status.idle": "2024-12-17T01:01:11.998322Z",
     "shell.execute_reply": "2024-12-17T01:01:11.997981Z"
    },
    "papermill": {
     "duration": 0.008296,
     "end_time": "2024-12-17T01:01:11.998842",
     "exception": false,
     "start_time": "2024-12-17T01:01:11.990546",
     "status": "completed"
    },
    "tags": []
   },
   "outputs": [],
   "source": [
    "def info_nce_loss(anchor_embedding, positive_embedding, negative_embedding, distance_fn):\n",
    "    pos_dist = distance_fn(anchor_embedding, positive_embedding)\n",
    "    neg_dist = torch.stack([distance_fn(anchor_embedding, neg) for neg in negative_embedding], dim=-1)\n",
    "    \n",
    "    logits = torch.cat([-pos_dist.unsqueeze(1), -neg_dist], dim=1)\n",
    "    labels = torch.zeros(logits.size(0), dtype=torch.long, device=logits.device)\n",
    "    \n",
    "    loss = torch.nn.CrossEntropyLoss()(logits, labels)\n",
    "    return loss"
   ]
  },
  {
   "cell_type": "code",
   "execution_count": 25,
   "id": "8d548bda",
   "metadata": {
    "execution": {
     "iopub.execute_input": "2024-12-17T01:01:12.008255Z",
     "iopub.status.busy": "2024-12-17T01:01:12.008102Z",
     "iopub.status.idle": "2024-12-17T01:01:12.010878Z",
     "shell.execute_reply": "2024-12-17T01:01:12.010541Z"
    },
    "papermill": {
     "duration": 0.008106,
     "end_time": "2024-12-17T01:01:12.011403",
     "exception": false,
     "start_time": "2024-12-17T01:01:12.003297",
     "status": "completed"
    },
    "tags": []
   },
   "outputs": [],
   "source": [
    "def exterior_angle(x_space, y_space, c):\n",
    "    norm_x_space = torch.norm(x_space, p=2, dim=-1)\n",
    "    norm_y_space = torch.norm(y_space, p=2, dim=-1)\n",
    "    x_time = torch.sqrt(1/c + norm_x_space**2)\n",
    "    y_time = torch.sqrt(1/c + norm_y_space**2)\n",
    "    dot_product = torch.sum(x_space * y_space, dim=-1)\n",
    "    lorentz_inner_product =  dot_product - x_time * y_time\n",
    "    numerator = y_time + x_time * c * lorentz_inner_product\n",
    "    denominator = norm_x_space * torch.sqrt((c * lorentz_inner_product)**2 - 1)\n",
    "    ext_angle = torch.acos(numerator / denominator)\n",
    "    return ext_angle"
   ]
  },
  {
   "cell_type": "code",
   "execution_count": 26,
   "id": "15f209c4",
   "metadata": {
    "execution": {
     "iopub.execute_input": "2024-12-17T01:01:12.020506Z",
     "iopub.status.busy": "2024-12-17T01:01:12.020382Z",
     "iopub.status.idle": "2024-12-17T01:01:12.022888Z",
     "shell.execute_reply": "2024-12-17T01:01:12.022550Z"
    },
    "papermill": {
     "duration": 0.007646,
     "end_time": "2024-12-17T01:01:12.023409",
     "exception": false,
     "start_time": "2024-12-17T01:01:12.015763",
     "status": "completed"
    },
    "tags": []
   },
   "outputs": [],
   "source": [
    "def entailment_loss(x, y, c=1, K=0.1):\n",
    "    aperture = torch.asin(2 * K / (c * torch.norm(x, p=2, dim=-1)))\n",
    "    \n",
    "    ext_angle = exterior_angle(x_space=x,y_space=y,c=c)\n",
    "\n",
    "    loss = torch.max(torch.zeros_like(ext_angle), ext_angle - aperture)\n",
    "    return loss.mean()"
   ]
  },
  {
   "cell_type": "code",
   "execution_count": 27,
   "id": "d4be6013",
   "metadata": {
    "execution": {
     "iopub.execute_input": "2024-12-17T01:01:12.032559Z",
     "iopub.status.busy": "2024-12-17T01:01:12.032434Z",
     "iopub.status.idle": "2024-12-17T01:01:12.035268Z",
     "shell.execute_reply": "2024-12-17T01:01:12.034929Z"
    },
    "papermill": {
     "duration": 0.007997,
     "end_time": "2024-12-17T01:01:12.035792",
     "exception": false,
     "start_time": "2024-12-17T01:01:12.027795",
     "status": "completed"
    },
    "tags": []
   },
   "outputs": [],
   "source": [
    "optimizer = torch.optim.AdamW(lora_model.parameters(), lr=5e-5)"
   ]
  },
  {
   "cell_type": "code",
   "execution_count": 28,
   "id": "889a0ec4",
   "metadata": {
    "execution": {
     "iopub.execute_input": "2024-12-17T01:01:12.045366Z",
     "iopub.status.busy": "2024-12-17T01:01:12.045051Z",
     "iopub.status.idle": "2024-12-17T01:01:12.047027Z",
     "shell.execute_reply": "2024-12-17T01:01:12.046693Z"
    },
    "papermill": {
     "duration": 0.007361,
     "end_time": "2024-12-17T01:01:12.047572",
     "exception": false,
     "start_time": "2024-12-17T01:01:12.040211",
     "status": "completed"
    },
    "tags": []
   },
   "outputs": [],
   "source": [
    "num_epochs=3"
   ]
  },
  {
   "cell_type": "code",
   "execution_count": 29,
   "id": "f413179a",
   "metadata": {
    "execution": {
     "iopub.execute_input": "2024-12-17T01:01:12.057228Z",
     "iopub.status.busy": "2024-12-17T01:01:12.056852Z",
     "iopub.status.idle": "2024-12-17T01:01:12.326688Z",
     "shell.execute_reply": "2024-12-17T01:01:12.326196Z"
    },
    "papermill": {
     "duration": 0.275285,
     "end_time": "2024-12-17T01:01:12.327263",
     "exception": false,
     "start_time": "2024-12-17T01:01:12.051978",
     "status": "completed"
    },
    "tags": []
   },
   "outputs": [],
   "source": [
    "device = torch.device('cuda' if torch.cuda.is_available() else 'cpu')"
   ]
  },
  {
   "cell_type": "code",
   "execution_count": 30,
   "id": "700d72b9",
   "metadata": {
    "execution": {
     "iopub.execute_input": "2024-12-17T01:01:12.336926Z",
     "iopub.status.busy": "2024-12-17T01:01:12.336575Z",
     "iopub.status.idle": "2024-12-17T01:01:12.339358Z",
     "shell.execute_reply": "2024-12-17T01:01:12.339030Z"
    },
    "papermill": {
     "duration": 0.008115,
     "end_time": "2024-12-17T01:01:12.339918",
     "exception": false,
     "start_time": "2024-12-17T01:01:12.331803",
     "status": "completed"
    },
    "tags": []
   },
   "outputs": [
    {
     "data": {
      "text/plain": [
       "device(type='cuda')"
      ]
     },
     "execution_count": 30,
     "metadata": {},
     "output_type": "execute_result"
    }
   ],
   "source": [
    "device"
   ]
  },
  {
   "cell_type": "code",
   "execution_count": 31,
   "id": "c6b918de",
   "metadata": {
    "execution": {
     "iopub.execute_input": "2024-12-17T01:01:12.349526Z",
     "iopub.status.busy": "2024-12-17T01:01:12.349278Z",
     "iopub.status.idle": "2024-12-17T01:01:12.352115Z",
     "shell.execute_reply": "2024-12-17T01:01:12.351764Z"
    },
    "papermill": {
     "duration": 0.008159,
     "end_time": "2024-12-17T01:01:12.352638",
     "exception": false,
     "start_time": "2024-12-17T01:01:12.344479",
     "status": "completed"
    },
    "tags": []
   },
   "outputs": [],
   "source": [
    "hyperbolic_model= HyperbolicEmbeddingLayer(embed_dim=128)"
   ]
  },
  {
   "cell_type": "code",
   "execution_count": 32,
   "id": "66345f12",
   "metadata": {
    "execution": {
     "iopub.execute_input": "2024-12-17T01:01:12.362129Z",
     "iopub.status.busy": "2024-12-17T01:01:12.362007Z",
     "iopub.status.idle": "2024-12-17T01:01:13.067897Z",
     "shell.execute_reply": "2024-12-17T01:01:13.067335Z"
    },
    "papermill": {
     "duration": 0.711371,
     "end_time": "2024-12-17T01:01:13.068567",
     "exception": false,
     "start_time": "2024-12-17T01:01:12.357196",
     "status": "completed"
    },
    "tags": []
   },
   "outputs": [],
   "source": [
    "lora_model = lora_model.to(device)"
   ]
  },
  {
   "cell_type": "code",
   "execution_count": 33,
   "id": "542a9a1c",
   "metadata": {
    "execution": {
     "iopub.execute_input": "2024-12-17T01:01:13.080145Z",
     "iopub.status.busy": "2024-12-17T01:01:13.079995Z",
     "iopub.status.idle": "2024-12-17T01:01:13.082398Z",
     "shell.execute_reply": "2024-12-17T01:01:13.082056Z"
    },
    "papermill": {
     "duration": 0.007943,
     "end_time": "2024-12-17T01:01:13.082967",
     "exception": false,
     "start_time": "2024-12-17T01:01:13.075024",
     "status": "completed"
    },
    "tags": []
   },
   "outputs": [],
   "source": [
    "hyperbolic_model = hyperbolic_model.to(device)"
   ]
  },
  {
   "cell_type": "code",
   "execution_count": 34,
   "id": "c11203e0",
   "metadata": {
    "execution": {
     "iopub.execute_input": "2024-12-17T01:01:13.092673Z",
     "iopub.status.busy": "2024-12-17T01:01:13.092425Z",
     "iopub.status.idle": "2024-12-17T01:01:16.512062Z",
     "shell.execute_reply": "2024-12-17T01:01:16.511646Z"
    },
    "papermill": {
     "duration": 3.425353,
     "end_time": "2024-12-17T01:01:16.512922",
     "exception": false,
     "start_time": "2024-12-17T01:01:13.087569",
     "status": "completed"
    },
    "tags": []
   },
   "outputs": [],
   "source": [
    "dataset_val = load_dataset('ms_marco', 'v1.1', split='validation')"
   ]
  },
  {
   "cell_type": "code",
   "execution_count": 35,
   "id": "140024a6",
   "metadata": {
    "execution": {
     "iopub.execute_input": "2024-12-17T01:01:16.525210Z",
     "iopub.status.busy": "2024-12-17T01:01:16.524971Z",
     "iopub.status.idle": "2024-12-17T01:01:16.529604Z",
     "shell.execute_reply": "2024-12-17T01:01:16.529255Z"
    },
    "papermill": {
     "duration": 0.010254,
     "end_time": "2024-12-17T01:01:16.530136",
     "exception": false,
     "start_time": "2024-12-17T01:01:16.519882",
     "status": "completed"
    },
    "tags": []
   },
   "outputs": [],
   "source": [
    "processed_data_val = dataset_val.map(preprocess, remove_columns=dataset_val.column_names)"
   ]
  },
  {
   "cell_type": "code",
   "execution_count": 36,
   "id": "8783927a",
   "metadata": {
    "execution": {
     "iopub.execute_input": "2024-12-17T01:01:16.540318Z",
     "iopub.status.busy": "2024-12-17T01:01:16.540021Z",
     "iopub.status.idle": "2024-12-17T01:01:16.543866Z",
     "shell.execute_reply": "2024-12-17T01:01:16.543528Z"
    },
    "papermill": {
     "duration": 0.009508,
     "end_time": "2024-12-17T01:01:16.544404",
     "exception": false,
     "start_time": "2024-12-17T01:01:16.534896",
     "status": "completed"
    },
    "tags": []
   },
   "outputs": [],
   "source": [
    "processed_data_val = processed_data_val.filter(lambda x: x['query'] is not None and x['positive'] is not None)"
   ]
  },
  {
   "cell_type": "code",
   "execution_count": 37,
   "id": "745854b9",
   "metadata": {
    "execution": {
     "iopub.execute_input": "2024-12-17T01:01:16.554139Z",
     "iopub.status.busy": "2024-12-17T01:01:16.554011Z",
     "iopub.status.idle": "2024-12-17T01:01:17.185588Z",
     "shell.execute_reply": "2024-12-17T01:01:17.185098Z"
    },
    "papermill": {
     "duration": 0.637125,
     "end_time": "2024-12-17T01:01:17.186214",
     "exception": false,
     "start_time": "2024-12-17T01:01:16.549089",
     "status": "completed"
    },
    "tags": []
   },
   "outputs": [],
   "source": [
    "contrastive_pairs_val = []\n",
    "for item in processed_data_val:\n",
    "    query = item[\"query\"]\n",
    "    positive = item[\"positive\"]\n",
    "    negatives = item[\"negatives\"]\n",
    "    contrastive_pairs_val.append({\n",
    "        \"anchor\": query,\n",
    "        \"positive\": positive,\n",
    "        \"negatives\": negatives\n",
    "    })"
   ]
  },
  {
   "cell_type": "code",
   "execution_count": 38,
   "id": "16b26d58",
   "metadata": {
    "execution": {
     "iopub.execute_input": "2024-12-17T01:01:17.196490Z",
     "iopub.status.busy": "2024-12-17T01:01:17.196175Z",
     "iopub.status.idle": "2024-12-17T01:01:17.198361Z",
     "shell.execute_reply": "2024-12-17T01:01:17.198023Z"
    },
    "papermill": {
     "duration": 0.007807,
     "end_time": "2024-12-17T01:01:17.198885",
     "exception": false,
     "start_time": "2024-12-17T01:01:17.191078",
     "status": "completed"
    },
    "tags": []
   },
   "outputs": [],
   "source": [
    "contrastive_dataset_val = ContrastiveDataset(contrastive_pairs_val)"
   ]
  },
  {
   "cell_type": "code",
   "execution_count": 39,
   "id": "89c215b7",
   "metadata": {
    "execution": {
     "iopub.execute_input": "2024-12-17T01:01:17.208730Z",
     "iopub.status.busy": "2024-12-17T01:01:17.208605Z",
     "iopub.status.idle": "2024-12-17T01:01:17.210845Z",
     "shell.execute_reply": "2024-12-17T01:01:17.210505Z"
    },
    "papermill": {
     "duration": 0.007755,
     "end_time": "2024-12-17T01:01:17.211356",
     "exception": false,
     "start_time": "2024-12-17T01:01:17.203601",
     "status": "completed"
    },
    "tags": []
   },
   "outputs": [],
   "source": [
    "data_loader_val = DataLoader(contrastive_dataset_val, batch_size=32, shuffle=True)"
   ]
  },
  {
   "cell_type": "code",
   "execution_count": 40,
   "id": "2473d36a",
   "metadata": {
    "execution": {
     "iopub.execute_input": "2024-12-17T01:01:17.221243Z",
     "iopub.status.busy": "2024-12-17T01:01:17.221063Z",
     "iopub.status.idle": "2024-12-17T01:01:17.225802Z",
     "shell.execute_reply": "2024-12-17T01:01:17.225464Z"
    },
    "papermill": {
     "duration": 0.010296,
     "end_time": "2024-12-17T01:01:17.226362",
     "exception": false,
     "start_time": "2024-12-17T01:01:17.216066",
     "status": "completed"
    },
    "tags": []
   },
   "outputs": [],
   "source": [
    "def evaluate_mrr(model1, model2, data_loader_val, distance_fn):\n",
    "    model1.eval()\n",
    "    model2.eval()\n",
    "    \n",
    "    total_rr = 0.0\n",
    "    num_queries = 0\n",
    "\n",
    "    with torch.no_grad():\n",
    "        for batch in data_loader_val:\n",
    "            anchor_text = batch[0]\n",
    "            positive_text = batch[1]\n",
    "            negative_texts = batch[2]\n",
    "\n",
    "            anchor_input = tokenizer(anchor_text, return_tensors='pt', padding=True, truncation=True, max_length=512).to(device)\n",
    "            positive_input = tokenizer(positive_text, return_tensors='pt', padding=True, truncation=True, max_length=512).to(device)\n",
    "\n",
    "            anchor_embedding = model2(model1(**anchor_input).last_hidden_state[:, 0, :])\n",
    "            positive_embedding = model2(model1(**positive_input).last_hidden_state[:, 0, :])\n",
    "            negative_embedding = [model2(model1(**tokenizer(neg, return_tensors='pt', padding=True, truncation=True, max_length=512).to(device)).last_hidden_state[:, 0, :]) for neg in negative_texts]\n",
    "\n",
    "            pos_dist = distance_fn(anchor_embedding, positive_embedding)\n",
    "            neg_dist = torch.stack([distance_fn(anchor_embedding, neg) for neg in negative_embedding], dim=-1)\n",
    "            all_similarities=torch.cat([-pos_dist.unsqueeze(1), -neg_dist], dim=1)\n",
    "\n",
    "            sorted_similarities, sorted_indices = torch.sort(all_similarities, dim=1, descending=True)\n",
    "\n",
    "            # Find the rank of the first relevant (positive) document\n",
    "            positive_rank = (sorted_indices == 0).nonzero(as_tuple=True)[1] + 1  # +1 to make rank 1-based\n",
    "            total_rr += torch.sum(1.0 / positive_rank.float()).item()  # Reciprocal rank\n",
    "            num_queries += len(positive_rank)\n",
    "\n",
    "    mrr = total_rr / num_queries\n",
    "    return mrr"
   ]
  },
  {
   "cell_type": "code",
   "execution_count": 41,
   "id": "ecb751e8",
   "metadata": {
    "execution": {
     "iopub.execute_input": "2024-12-17T01:01:17.236307Z",
     "iopub.status.busy": "2024-12-17T01:01:17.236182Z",
     "iopub.status.idle": "2024-12-17T01:01:17.238154Z",
     "shell.execute_reply": "2024-12-17T01:01:17.237817Z"
    },
    "papermill": {
     "duration": 0.007545,
     "end_time": "2024-12-17T01:01:17.238698",
     "exception": false,
     "start_time": "2024-12-17T01:01:17.231153",
     "status": "completed"
    },
    "tags": []
   },
   "outputs": [],
   "source": [
    "import os\n",
    "save_dir =\"/dss/dsshome1/07/ra65bex2/srawat\"\n",
    "import time\n",
    "epoch_metrics = []"
   ]
  },
  {
   "cell_type": "code",
   "execution_count": 42,
   "id": "9d182d88",
   "metadata": {
    "execution": {
     "iopub.execute_input": "2024-12-17T01:01:17.248770Z",
     "iopub.status.busy": "2024-12-17T01:01:17.248522Z",
     "iopub.status.idle": "2024-12-17T02:42:11.669919Z",
     "shell.execute_reply": "2024-12-17T02:42:11.669230Z"
    },
    "papermill": {
     "duration": 6054.433861,
     "end_time": "2024-12-17T02:42:11.677330",
     "exception": false,
     "start_time": "2024-12-17T01:01:17.243469",
     "status": "completed"
    },
    "tags": []
   },
   "outputs": [
    {
     "name": "stdout",
     "output_type": "stream",
     "text": [
      "EPOCH 1:\n",
      "Checkpoint saved: /dss/dsshome1/07/ra65bex2/srawat\n",
      "Epoch 1/3, Loss: 1.9297548615881301\n",
      "Epoch 1/3, Contrastive Loss: 1.7569844252561806\n",
      "Epoch 1/3, Entailment Loss: 1.7277043512962407\n"
     ]
    },
    {
     "name": "stdout",
     "output_type": "stream",
     "text": [
      "Mean Reciprocal Rank (MRR) for validation set: 0.5165\n",
      "Epoch 1 took 33.6240 minutes.\n",
      "\n",
      "\n"
     ]
    },
    {
     "name": "stdout",
     "output_type": "stream",
     "text": [
      "EPOCH 2:\n",
      "Checkpoint saved: /dss/dsshome1/07/ra65bex2/srawat\n",
      "Epoch 2/3, Loss: 1.87352102355384\n",
      "Epoch 2/3, Contrastive Loss: 1.6949510604526863\n",
      "Epoch 2/3, Entailment Loss: 1.7856996305510722\n"
     ]
    },
    {
     "name": "stdout",
     "output_type": "stream",
     "text": [
      "Mean Reciprocal Rank (MRR) for validation set: 0.5284\n",
      "Epoch 2 took 33.6316 minutes.\n",
      "\n",
      "\n"
     ]
    },
    {
     "name": "stdout",
     "output_type": "stream",
     "text": [
      "EPOCH 3:\n",
      "Checkpoint saved: /dss/dsshome1/07/ra65bex2/srawat\n",
      "Epoch 3/3, Loss: 1.8574599540284775\n",
      "Epoch 3/3, Contrastive Loss: 1.6784714882465903\n",
      "Epoch 3/3, Entailment Loss: 1.7898846644188713\n"
     ]
    },
    {
     "name": "stdout",
     "output_type": "stream",
     "text": [
      "Mean Reciprocal Rank (MRR) for validation set: 0.5325\n",
      "Epoch 3 took 33.6513 minutes.\n",
      "\n",
      "\n"
     ]
    }
   ],
   "source": [
    "for epoch in range(num_epochs):\n",
    "    start_time = time.time()\n",
    "    lora_model.train()\n",
    "    hyperbolic_model.train()\n",
    "\n",
    "    total_loss = 0.0\n",
    "    entailment_loss_total=0.0\n",
    "    contrastive_loss_total=0.0\n",
    "    for batch in data_loader_train:\n",
    "        anchor_texts = batch[0]\n",
    "        positive_texts = batch[1]\n",
    "        negative_texts = batch[2]\n",
    "\n",
    "        anchor_inputs = tokenizer(anchor_texts, return_tensors='pt', padding=True, truncation=True, max_length=512).to(device)\n",
    "        positive_inputs = tokenizer(positive_texts, return_tensors='pt', padding=True, truncation=True, max_length=512).to(device)\n",
    "    \n",
    "        anchor_embedding = hyperbolic_model(lora_model(**anchor_inputs).last_hidden_state[:, 0, :])\n",
    "        positive_embedding = hyperbolic_model(lora_model(**positive_inputs).last_hidden_state[:, 0, :])\n",
    "        negative_embedding = [hyperbolic_model(lora_model(**tokenizer(neg, return_tensors='pt', padding=True, truncation=True, max_length=512).to(device)).last_hidden_state[:, 0, :]) for neg in negative_texts]\n",
    "\n",
    "        contrastive_loss_value = info_nce_loss(anchor_embedding, positive_embedding, negative_embedding, distance_fn=lorentzian_distance)\n",
    "        \n",
    "        entailment_loss_value = entailment_loss(anchor_embedding, positive_embedding)\n",
    "        \n",
    "        loss = contrastive_loss_value + 0.1*entailment_loss_value\n",
    "  \n",
    "        optimizer.zero_grad()\n",
    "        loss.backward()\n",
    "        optimizer.step()\n",
    "        \n",
    "        total_loss += loss.item()\n",
    "        entailment_loss_total+=entailment_loss_value.item()\n",
    "        contrastive_loss_total+=contrastive_loss_value.item()\n",
    "    save_path1 = os.path.join(save_dir, f\"hyperbolic_lora_checkpoint_epoch_{epoch+1}.pth\")\n",
    "    save_path2 = os.path.join(save_dir, f\"hyperbolic_checkpoint_epoch_{epoch+1}.pth\")\n",
    "    torch.save(lora_model, save_path1)\n",
    "    torch.save(hyperbolic_model, save_path2)\n",
    "    print(f\"EPOCH {epoch+1}:\")\n",
    "    print(f\"Checkpoint saved: {save_dir}\")\n",
    "    print(f\"Epoch {epoch+1}/{num_epochs}, Loss: {total_loss / len(data_loader_train)}\")\n",
    "    print(f\"Epoch {epoch+1}/{num_epochs}, Contrastive Loss: {contrastive_loss_total / len(data_loader_train)}\")\n",
    "    print(f\"Epoch {epoch+1}/{num_epochs}, Entailment Loss: {entailment_loss_total / len(data_loader_train)}\")\n",
    "    mrr_validation = evaluate_mrr(model1=lora_model, model2=hyperbolic_model, data_loader_val=data_loader_val,distance_fn=lorentzian_distance)\n",
    "    #mrr_train = evaluate_mrr(lora_model, data_loader_train, lorentzian_distance)\n",
    "    #print(f\"Mean Reciprocal Rank (MRR) for training set: {mrr_train:.4f}\")\n",
    "    print(f\"Mean Reciprocal Rank (MRR) for validation set: {mrr_validation:.4f}\")\n",
    "    end_time = time.time()\n",
    "    print(f\"Epoch {epoch+1} took {(end_time - start_time) / 60:.4f} minutes.\")\n",
    "    print(f\"\\n\")\n",
    "    epoch_metrics.append({\n",
    "        'epoch': epoch + 1,\n",
    "        'training_loss': total_loss / len(data_loader_train),\n",
    "        'Contrastive_loss': contrastive_loss_total / len(data_loader_train),\n",
    "        'Entailment_loss': entailment_loss_total / len(data_loader_train),\n",
    "        'mrr_validation': mrr_validation,\n",
    "        'time_taken_minutes': (end_time - start_time) / 60\n",
    "    })"
   ]
  },
  {
   "cell_type": "code",
   "execution_count": 43,
   "id": "999fa994",
   "metadata": {
    "execution": {
     "iopub.execute_input": "2024-12-17T02:42:11.689474Z",
     "iopub.status.busy": "2024-12-17T02:42:11.689015Z",
     "iopub.status.idle": "2024-12-17T02:42:11.693269Z",
     "shell.execute_reply": "2024-12-17T02:42:11.692916Z"
    },
    "papermill": {
     "duration": 0.010822,
     "end_time": "2024-12-17T02:42:11.693856",
     "exception": false,
     "start_time": "2024-12-17T02:42:11.683034",
     "status": "completed"
    },
    "tags": []
   },
   "outputs": [],
   "source": [
    "import json\n",
    "with open(save_dir + '/hyperbolic_epoch_metrics.json', 'w') as f:\n",
    "    json.dump(epoch_metrics, f)"
   ]
  },
  {
   "cell_type": "code",
   "execution_count": null,
   "id": "21eecedd",
   "metadata": {
    "papermill": {
     "duration": 0.005043,
     "end_time": "2024-12-17T02:42:11.704026",
     "exception": false,
     "start_time": "2024-12-17T02:42:11.698983",
     "status": "completed"
    },
    "tags": []
   },
   "outputs": [],
   "source": []
  }
 ],
 "metadata": {
  "kernelspec": {
   "display_name": "Python 3 (ipykernel)",
   "language": "python",
   "name": "python3"
  },
  "language_info": {
   "codemirror_mode": {
    "name": "ipython",
    "version": 3
   },
   "file_extension": ".py",
   "mimetype": "text/x-python",
   "name": "python",
   "nbconvert_exporter": "python",
   "pygments_lexer": "ipython3",
   "version": "3.10.12"
  },
  "papermill": {
   "default_parameters": {},
   "duration": 6081.422033,
   "end_time": "2024-12-17T02:42:13.325286",
   "environment_variables": {},
   "exception": null,
   "input_path": "app_hyperbolic.ipynb",
   "output_path": "app_hyperbolic_output.ipynb",
   "parameters": {},
   "start_time": "2024-12-17T01:00:51.903253",
   "version": "2.6.0"
  }
 },
 "nbformat": 4,
 "nbformat_minor": 5
}
