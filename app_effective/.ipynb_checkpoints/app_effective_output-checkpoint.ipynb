{
 "cells": [
  {
   "cell_type": "code",
   "execution_count": 1,
   "id": "9569fc17",
   "metadata": {
    "execution": {
     "iopub.execute_input": "2024-12-29T18:29:41.579473Z",
     "iopub.status.busy": "2024-12-29T18:29:41.578968Z",
     "iopub.status.idle": "2024-12-29T18:29:48.629343Z",
     "shell.execute_reply": "2024-12-29T18:29:48.628953Z"
    },
    "papermill": {
     "duration": 7.058015,
     "end_time": "2024-12-29T18:29:48.630203",
     "exception": false,
     "start_time": "2024-12-29T18:29:41.572188",
     "status": "completed"
    },
    "tags": []
   },
   "outputs": [],
   "source": [
    "from datasets import load_dataset"
   ]
  },
  {
   "cell_type": "code",
   "execution_count": 2,
   "id": "a8779ef9",
   "metadata": {
    "execution": {
     "iopub.execute_input": "2024-12-29T18:29:48.647480Z",
     "iopub.status.busy": "2024-12-29T18:29:48.647127Z",
     "iopub.status.idle": "2024-12-29T18:29:53.718733Z",
     "shell.execute_reply": "2024-12-29T18:29:53.718250Z"
    },
    "papermill": {
     "duration": 5.076581,
     "end_time": "2024-12-29T18:29:53.719581",
     "exception": false,
     "start_time": "2024-12-29T18:29:48.643000",
     "status": "completed"
    },
    "tags": []
   },
   "outputs": [],
   "source": [
    "dataset = load_dataset('ms_marco', 'v1.1')"
   ]
  },
  {
   "cell_type": "code",
   "execution_count": 3,
   "id": "42fc0684",
   "metadata": {
    "execution": {
     "iopub.execute_input": "2024-12-29T18:29:53.727686Z",
     "iopub.status.busy": "2024-12-29T18:29:53.727343Z",
     "iopub.status.idle": "2024-12-29T18:29:53.732002Z",
     "shell.execute_reply": "2024-12-29T18:29:53.731587Z"
    },
    "papermill": {
     "duration": 0.009257,
     "end_time": "2024-12-29T18:29:53.732686",
     "exception": false,
     "start_time": "2024-12-29T18:29:53.723429",
     "status": "completed"
    },
    "tags": []
   },
   "outputs": [
    {
     "data": {
      "text/plain": [
       "DatasetDict({\n",
       "    validation: Dataset({\n",
       "        features: ['answers', 'passages', 'query', 'query_id', 'query_type', 'wellFormedAnswers'],\n",
       "        num_rows: 10047\n",
       "    })\n",
       "    train: Dataset({\n",
       "        features: ['answers', 'passages', 'query', 'query_id', 'query_type', 'wellFormedAnswers'],\n",
       "        num_rows: 82326\n",
       "    })\n",
       "    test: Dataset({\n",
       "        features: ['answers', 'passages', 'query', 'query_id', 'query_type', 'wellFormedAnswers'],\n",
       "        num_rows: 9650\n",
       "    })\n",
       "})"
      ]
     },
     "execution_count": 3,
     "metadata": {},
     "output_type": "execute_result"
    }
   ],
   "source": [
    "dataset"
   ]
  },
  {
   "cell_type": "code",
   "execution_count": 4,
   "id": "2a4e2b5c",
   "metadata": {
    "execution": {
     "iopub.execute_input": "2024-12-29T18:29:53.740965Z",
     "iopub.status.busy": "2024-12-29T18:29:53.740574Z",
     "iopub.status.idle": "2024-12-29T18:29:56.514071Z",
     "shell.execute_reply": "2024-12-29T18:29:56.513646Z"
    },
    "papermill": {
     "duration": 2.778577,
     "end_time": "2024-12-29T18:29:56.514849",
     "exception": false,
     "start_time": "2024-12-29T18:29:53.736272",
     "status": "completed"
    },
    "tags": []
   },
   "outputs": [],
   "source": [
    "dataset = load_dataset('ms_marco', 'v1.1', split='train')"
   ]
  },
  {
   "cell_type": "code",
   "execution_count": 5,
   "id": "72329d0b",
   "metadata": {
    "execution": {
     "iopub.execute_input": "2024-12-29T18:29:56.528843Z",
     "iopub.status.busy": "2024-12-29T18:29:56.528593Z",
     "iopub.status.idle": "2024-12-29T18:29:56.531656Z",
     "shell.execute_reply": "2024-12-29T18:29:56.531270Z"
    },
    "papermill": {
     "duration": 0.007922,
     "end_time": "2024-12-29T18:29:56.532353",
     "exception": false,
     "start_time": "2024-12-29T18:29:56.524431",
     "status": "completed"
    },
    "tags": []
   },
   "outputs": [
    {
     "data": {
      "text/plain": [
       "Dataset({\n",
       "    features: ['answers', 'passages', 'query', 'query_id', 'query_type', 'wellFormedAnswers'],\n",
       "    num_rows: 82326\n",
       "})"
      ]
     },
     "execution_count": 5,
     "metadata": {},
     "output_type": "execute_result"
    }
   ],
   "source": [
    "dataset"
   ]
  },
  {
   "cell_type": "code",
   "execution_count": 6,
   "id": "24877c8c",
   "metadata": {
    "execution": {
     "iopub.execute_input": "2024-12-29T18:29:56.540329Z",
     "iopub.status.busy": "2024-12-29T18:29:56.539959Z",
     "iopub.status.idle": "2024-12-29T18:29:56.547345Z",
     "shell.execute_reply": "2024-12-29T18:29:56.546950Z"
    },
    "papermill": {
     "duration": 0.012071,
     "end_time": "2024-12-29T18:29:56.548104",
     "exception": false,
     "start_time": "2024-12-29T18:29:56.536033",
     "status": "completed"
    },
    "tags": []
   },
   "outputs": [],
   "source": [
    "def preprocess(example):\n",
    "    positive_passages=[]\n",
    "    for p in enumerate(example['passages'][\"is_selected\"]):\n",
    "        if p[1]==1:\n",
    "            positive_passages.append(example[\"passages\"][\"passage_text\"][p[0]])\n",
    "    negative_passages = []\n",
    "    for p in enumerate(example['passages'][\"is_selected\"]):\n",
    "        if p[1]==0:\n",
    "            negative_passages.append(example[\"passages\"][\"passage_text\"][p[0]])\n",
    "    if (len(positive_passages)>0 and len(negative_passages)>=5):\n",
    "        positive = positive_passages[0]\n",
    "        negatives = negative_passages[:5]\n",
    "        return {\n",
    "            \"query\": example[\"query\"],\n",
    "            \"positive\": positive,\n",
    "            \"negatives\": negatives\n",
    "        }\n",
    "    else:\n",
    "        return {\"query\": None, \"positive\": None, \"negatives\": None}"
   ]
  },
  {
   "cell_type": "code",
   "execution_count": 7,
   "id": "4983635f",
   "metadata": {
    "execution": {
     "iopub.execute_input": "2024-12-29T18:29:56.556150Z",
     "iopub.status.busy": "2024-12-29T18:29:56.555901Z",
     "iopub.status.idle": "2024-12-29T18:29:56.918945Z",
     "shell.execute_reply": "2024-12-29T18:29:56.918563Z"
    },
    "papermill": {
     "duration": 0.368012,
     "end_time": "2024-12-29T18:29:56.919847",
     "exception": false,
     "start_time": "2024-12-29T18:29:56.551835",
     "status": "completed"
    },
    "tags": []
   },
   "outputs": [],
   "source": [
    "processed_data = dataset.map(preprocess, remove_columns=dataset.column_names)"
   ]
  },
  {
   "cell_type": "code",
   "execution_count": 8,
   "id": "6ae01292",
   "metadata": {
    "execution": {
     "iopub.execute_input": "2024-12-29T18:29:56.928199Z",
     "iopub.status.busy": "2024-12-29T18:29:56.928050Z",
     "iopub.status.idle": "2024-12-29T18:29:56.957447Z",
     "shell.execute_reply": "2024-12-29T18:29:56.957100Z"
    },
    "papermill": {
     "duration": 0.034226,
     "end_time": "2024-12-29T18:29:56.958270",
     "exception": false,
     "start_time": "2024-12-29T18:29:56.924044",
     "status": "completed"
    },
    "tags": []
   },
   "outputs": [],
   "source": [
    "processed_data = processed_data.filter(lambda x: x['query'] is not None and x['positive'] is not None)"
   ]
  },
  {
   "cell_type": "code",
   "execution_count": 9,
   "id": "ef38255a",
   "metadata": {
    "execution": {
     "iopub.execute_input": "2024-12-29T18:29:56.966101Z",
     "iopub.status.busy": "2024-12-29T18:29:56.965861Z",
     "iopub.status.idle": "2024-12-29T18:30:02.766560Z",
     "shell.execute_reply": "2024-12-29T18:30:02.765927Z"
    },
    "papermill": {
     "duration": 5.805587,
     "end_time": "2024-12-29T18:30:02.767557",
     "exception": false,
     "start_time": "2024-12-29T18:29:56.961970",
     "status": "completed"
    },
    "tags": []
   },
   "outputs": [],
   "source": [
    "contrastive_pairs = []\n",
    "for item in processed_data:\n",
    "    query = item[\"query\"]\n",
    "    positive = item[\"positive\"]\n",
    "    negatives = item[\"negatives\"]\n",
    "    contrastive_pairs.append({\n",
    "        \"anchor\": query,\n",
    "        \"positive\": positive,\n",
    "        \"negatives\": negatives\n",
    "    })"
   ]
  },
  {
   "cell_type": "code",
   "execution_count": 10,
   "id": "4122c89e",
   "metadata": {
    "execution": {
     "iopub.execute_input": "2024-12-29T18:30:02.778159Z",
     "iopub.status.busy": "2024-12-29T18:30:02.777852Z",
     "iopub.status.idle": "2024-12-29T18:30:02.781752Z",
     "shell.execute_reply": "2024-12-29T18:30:02.781396Z"
    },
    "papermill": {
     "duration": 0.008857,
     "end_time": "2024-12-29T18:30:02.782536",
     "exception": false,
     "start_time": "2024-12-29T18:30:02.773679",
     "status": "completed"
    },
    "tags": []
   },
   "outputs": [
    {
     "data": {
      "text/plain": [
       "74538"
      ]
     },
     "execution_count": 10,
     "metadata": {},
     "output_type": "execute_result"
    }
   ],
   "source": [
    "len(contrastive_pairs)"
   ]
  },
  {
   "cell_type": "code",
   "execution_count": 11,
   "id": "1ee4f91a",
   "metadata": {
    "execution": {
     "iopub.execute_input": "2024-12-29T18:30:02.790469Z",
     "iopub.status.busy": "2024-12-29T18:30:02.790229Z",
     "iopub.status.idle": "2024-12-29T18:30:14.101822Z",
     "shell.execute_reply": "2024-12-29T18:30:14.101135Z"
    },
    "papermill": {
     "duration": 11.316645,
     "end_time": "2024-12-29T18:30:14.102870",
     "exception": false,
     "start_time": "2024-12-29T18:30:02.786225",
     "status": "completed"
    },
    "tags": []
   },
   "outputs": [],
   "source": [
    "from torch.utils.data import DataLoader"
   ]
  },
  {
   "cell_type": "code",
   "execution_count": 12,
   "id": "6d6f5ab6",
   "metadata": {
    "execution": {
     "iopub.execute_input": "2024-12-29T18:30:14.117301Z",
     "iopub.status.busy": "2024-12-29T18:30:14.117092Z",
     "iopub.status.idle": "2024-12-29T18:30:14.120620Z",
     "shell.execute_reply": "2024-12-29T18:30:14.120144Z"
    },
    "papermill": {
     "duration": 0.00877,
     "end_time": "2024-12-29T18:30:14.121349",
     "exception": false,
     "start_time": "2024-12-29T18:30:14.112579",
     "status": "completed"
    },
    "tags": []
   },
   "outputs": [],
   "source": [
    "class ContrastiveDataset:\n",
    "    def __init__(self, pairs):\n",
    "        self.pairs = pairs\n",
    "\n",
    "    def __len__(self):\n",
    "        return len(self.pairs)\n",
    "\n",
    "    def __getitem__(self, idx):\n",
    "        item = self.pairs[idx]\n",
    "        return item[\"anchor\"], item[\"positive\"], item[\"negatives\"]"
   ]
  },
  {
   "cell_type": "code",
   "execution_count": 13,
   "id": "2fd1da3f",
   "metadata": {
    "execution": {
     "iopub.execute_input": "2024-12-29T18:30:14.129760Z",
     "iopub.status.busy": "2024-12-29T18:30:14.129392Z",
     "iopub.status.idle": "2024-12-29T18:30:14.137589Z",
     "shell.execute_reply": "2024-12-29T18:30:14.137114Z"
    },
    "papermill": {
     "duration": 0.012865,
     "end_time": "2024-12-29T18:30:14.138299",
     "exception": false,
     "start_time": "2024-12-29T18:30:14.125434",
     "status": "completed"
    },
    "tags": []
   },
   "outputs": [],
   "source": [
    "contrastive_dataset = ContrastiveDataset(contrastive_pairs)"
   ]
  },
  {
   "cell_type": "code",
   "execution_count": 14,
   "id": "47aec396",
   "metadata": {
    "execution": {
     "iopub.execute_input": "2024-12-29T18:30:14.146506Z",
     "iopub.status.busy": "2024-12-29T18:30:14.146255Z",
     "iopub.status.idle": "2024-12-29T18:30:14.152702Z",
     "shell.execute_reply": "2024-12-29T18:30:14.152257Z"
    },
    "papermill": {
     "duration": 0.011121,
     "end_time": "2024-12-29T18:30:14.153392",
     "exception": false,
     "start_time": "2024-12-29T18:30:14.142271",
     "status": "completed"
    },
    "tags": []
   },
   "outputs": [],
   "source": [
    "data_loader = DataLoader(contrastive_dataset, batch_size=32, shuffle=True)"
   ]
  },
  {
   "cell_type": "code",
   "execution_count": 15,
   "id": "d9f3ade1",
   "metadata": {
    "execution": {
     "iopub.execute_input": "2024-12-29T18:30:14.161817Z",
     "iopub.status.busy": "2024-12-29T18:30:14.161465Z",
     "iopub.status.idle": "2024-12-29T18:30:14.168530Z",
     "shell.execute_reply": "2024-12-29T18:30:14.168108Z"
    },
    "papermill": {
     "duration": 0.011693,
     "end_time": "2024-12-29T18:30:14.169146",
     "exception": false,
     "start_time": "2024-12-29T18:30:14.157453",
     "status": "completed"
    },
    "tags": []
   },
   "outputs": [
    {
     "data": {
      "text/plain": [
       "16"
      ]
     },
     "execution_count": 15,
     "metadata": {},
     "output_type": "execute_result"
    }
   ],
   "source": [
    "len(data_loader)"
   ]
  },
  {
   "cell_type": "code",
   "execution_count": 16,
   "id": "9ece4c49",
   "metadata": {
    "execution": {
     "iopub.execute_input": "2024-12-29T18:30:14.177709Z",
     "iopub.status.busy": "2024-12-29T18:30:14.177390Z",
     "iopub.status.idle": "2024-12-29T18:30:26.419495Z",
     "shell.execute_reply": "2024-12-29T18:30:26.418928Z"
    },
    "papermill": {
     "duration": 12.247268,
     "end_time": "2024-12-29T18:30:26.420600",
     "exception": false,
     "start_time": "2024-12-29T18:30:14.173332",
     "status": "completed"
    },
    "tags": []
   },
   "outputs": [],
   "source": [
    "from transformers import AutoTokenizer, AutoModel\n",
    "tokenizer = AutoTokenizer.from_pretrained(\"bert-base-uncased\")"
   ]
  },
  {
   "cell_type": "code",
   "execution_count": 17,
   "id": "7fa78ad8",
   "metadata": {
    "execution": {
     "iopub.execute_input": "2024-12-29T18:30:26.437351Z",
     "iopub.status.busy": "2024-12-29T18:30:26.436954Z",
     "iopub.status.idle": "2024-12-29T18:30:31.042766Z",
     "shell.execute_reply": "2024-12-29T18:30:31.042267Z"
    },
    "papermill": {
     "duration": 4.611405,
     "end_time": "2024-12-29T18:30:31.043697",
     "exception": false,
     "start_time": "2024-12-29T18:30:26.432292",
     "status": "completed"
    },
    "tags": []
   },
   "outputs": [],
   "source": [
    "model = AutoModel.from_pretrained(\"bert-base-uncased\")"
   ]
  },
  {
   "cell_type": "code",
   "execution_count": 18,
   "id": "1cefca63",
   "metadata": {
    "execution": {
     "iopub.execute_input": "2024-12-29T18:30:31.055801Z",
     "iopub.status.busy": "2024-12-29T18:30:31.055595Z",
     "iopub.status.idle": "2024-12-29T18:30:31.756117Z",
     "shell.execute_reply": "2024-12-29T18:30:31.755610Z"
    },
    "papermill": {
     "duration": 0.706208,
     "end_time": "2024-12-29T18:30:31.757032",
     "exception": false,
     "start_time": "2024-12-29T18:30:31.050824",
     "status": "completed"
    },
    "tags": []
   },
   "outputs": [],
   "source": [
    "from peft import LoraConfig, get_peft_model"
   ]
  },
  {
   "cell_type": "code",
   "execution_count": 19,
   "id": "d3b3757c",
   "metadata": {
    "execution": {
     "iopub.execute_input": "2024-12-29T18:30:31.766066Z",
     "iopub.status.busy": "2024-12-29T18:30:31.765787Z",
     "iopub.status.idle": "2024-12-29T18:30:31.768083Z",
     "shell.execute_reply": "2024-12-29T18:30:31.767728Z"
    },
    "papermill": {
     "duration": 0.007207,
     "end_time": "2024-12-29T18:30:31.768786",
     "exception": false,
     "start_time": "2024-12-29T18:30:31.761579",
     "status": "completed"
    },
    "tags": []
   },
   "outputs": [],
   "source": [
    "lora_config = LoraConfig(\n",
    "    task_type= \"FEATURE_EXTRACTION\"  # Sequence-level task (e.g., contrastive learning)\n",
    ")"
   ]
  },
  {
   "cell_type": "code",
   "execution_count": 20,
   "id": "ed7a4313",
   "metadata": {
    "execution": {
     "iopub.execute_input": "2024-12-29T18:30:31.777511Z",
     "iopub.status.busy": "2024-12-29T18:30:31.777217Z",
     "iopub.status.idle": "2024-12-29T18:30:32.049057Z",
     "shell.execute_reply": "2024-12-29T18:30:32.048652Z"
    },
    "papermill": {
     "duration": 0.276976,
     "end_time": "2024-12-29T18:30:32.049932",
     "exception": false,
     "start_time": "2024-12-29T18:30:31.772956",
     "status": "completed"
    },
    "tags": []
   },
   "outputs": [],
   "source": [
    "lora_model = get_peft_model(model, lora_config)"
   ]
  },
  {
   "cell_type": "code",
   "execution_count": 21,
   "id": "f2bfb09a",
   "metadata": {
    "execution": {
     "iopub.execute_input": "2024-12-29T18:30:32.058906Z",
     "iopub.status.busy": "2024-12-29T18:30:32.058621Z",
     "iopub.status.idle": "2024-12-29T18:30:32.062037Z",
     "shell.execute_reply": "2024-12-29T18:30:32.061677Z"
    },
    "papermill": {
     "duration": 0.008386,
     "end_time": "2024-12-29T18:30:32.062727",
     "exception": false,
     "start_time": "2024-12-29T18:30:32.054341",
     "status": "completed"
    },
    "tags": []
   },
   "outputs": [
    {
     "name": "stdout",
     "output_type": "stream",
     "text": [
      "trainable params: 294,912 || all params: 109,777,152 || trainable%: 0.2686\n"
     ]
    }
   ],
   "source": [
    "lora_model.print_trainable_parameters()"
   ]
  },
  {
   "cell_type": "code",
   "execution_count": 22,
   "id": "d1bc79cb",
   "metadata": {
    "execution": {
     "iopub.execute_input": "2024-12-29T18:30:32.071388Z",
     "iopub.status.busy": "2024-12-29T18:30:32.071094Z",
     "iopub.status.idle": "2024-12-29T18:30:32.077661Z",
     "shell.execute_reply": "2024-12-29T18:30:32.077331Z"
    },
    "papermill": {
     "duration": 0.011664,
     "end_time": "2024-12-29T18:30:32.078483",
     "exception": false,
     "start_time": "2024-12-29T18:30:32.066819",
     "status": "completed"
    },
    "tags": []
   },
   "outputs": [],
   "source": [
    "import torch"
   ]
  },
  {
   "cell_type": "code",
   "execution_count": 23,
   "id": "aa2b2dec",
   "metadata": {
    "execution": {
     "iopub.execute_input": "2024-12-29T18:30:32.087227Z",
     "iopub.status.busy": "2024-12-29T18:30:32.086919Z",
     "iopub.status.idle": "2024-12-29T18:30:32.350510Z",
     "shell.execute_reply": "2024-12-29T18:30:32.349941Z"
    },
    "papermill": {
     "duration": 0.269017,
     "end_time": "2024-12-29T18:30:32.351598",
     "exception": false,
     "start_time": "2024-12-29T18:30:32.082581",
     "status": "completed"
    },
    "tags": []
   },
   "outputs": [],
   "source": [
    "device = torch.device('cuda' if torch.cuda.is_available() else 'cpu')"
   ]
  },
  {
   "cell_type": "code",
   "execution_count": 24,
   "id": "02dda5c7",
   "metadata": {
    "execution": {
     "iopub.execute_input": "2024-12-29T18:30:32.360664Z",
     "iopub.status.busy": "2024-12-29T18:30:32.360345Z",
     "iopub.status.idle": "2024-12-29T18:30:32.366063Z",
     "shell.execute_reply": "2024-12-29T18:30:32.365695Z"
    },
    "papermill": {
     "duration": 0.010836,
     "end_time": "2024-12-29T18:30:32.366764",
     "exception": false,
     "start_time": "2024-12-29T18:30:32.355928",
     "status": "completed"
    },
    "tags": []
   },
   "outputs": [
    {
     "data": {
      "text/plain": [
       "device(type='cuda')"
      ]
     },
     "execution_count": 24,
     "metadata": {},
     "output_type": "execute_result"
    }
   ],
   "source": [
    "device"
   ]
  },
  {
   "cell_type": "code",
   "execution_count": 25,
   "id": "db4875d5",
   "metadata": {
    "execution": {
     "iopub.execute_input": "2024-12-29T18:30:32.375657Z",
     "iopub.status.busy": "2024-12-29T18:30:32.375380Z",
     "iopub.status.idle": "2024-12-29T18:30:32.382160Z",
     "shell.execute_reply": "2024-12-29T18:30:32.381840Z"
    },
    "papermill": {
     "duration": 0.011924,
     "end_time": "2024-12-29T18:30:32.382919",
     "exception": false,
     "start_time": "2024-12-29T18:30:32.370995",
     "status": "completed"
    },
    "tags": []
   },
   "outputs": [],
   "source": [
    "import torch.optim as optim\n",
    "optimizer = torch.optim.AdamW(lora_model.parameters(), lr=5e-5)"
   ]
  },
  {
   "cell_type": "code",
   "execution_count": 26,
   "id": "9ca3a079",
   "metadata": {
    "execution": {
     "iopub.execute_input": "2024-12-29T18:30:32.392214Z",
     "iopub.status.busy": "2024-12-29T18:30:32.391692Z",
     "iopub.status.idle": "2024-12-29T18:30:32.397293Z",
     "shell.execute_reply": "2024-12-29T18:30:32.396970Z"
    },
    "papermill": {
     "duration": 0.0108,
     "end_time": "2024-12-29T18:30:32.398104",
     "exception": false,
     "start_time": "2024-12-29T18:30:32.387304",
     "status": "completed"
    },
    "tags": []
   },
   "outputs": [],
   "source": [
    "num_epochs=3"
   ]
  },
  {
   "cell_type": "code",
   "execution_count": 27,
   "id": "28fe0038",
   "metadata": {
    "execution": {
     "iopub.execute_input": "2024-12-29T18:30:32.407081Z",
     "iopub.status.busy": "2024-12-29T18:30:32.406803Z",
     "iopub.status.idle": "2024-12-29T18:30:32.411398Z",
     "shell.execute_reply": "2024-12-29T18:30:32.411075Z"
    },
    "papermill": {
     "duration": 0.009869,
     "end_time": "2024-12-29T18:30:32.412264",
     "exception": false,
     "start_time": "2024-12-29T18:30:32.402395",
     "status": "completed"
    },
    "tags": []
   },
   "outputs": [],
   "source": [
    "import torch.nn.functional as F"
   ]
  },
  {
   "cell_type": "code",
   "execution_count": 28,
   "id": "9324b694",
   "metadata": {
    "execution": {
     "iopub.execute_input": "2024-12-29T18:30:32.421370Z",
     "iopub.status.busy": "2024-12-29T18:30:32.421023Z",
     "iopub.status.idle": "2024-12-29T18:30:32.426123Z",
     "shell.execute_reply": "2024-12-29T18:30:32.425791Z"
    },
    "papermill": {
     "duration": 0.010381,
     "end_time": "2024-12-29T18:30:32.426948",
     "exception": false,
     "start_time": "2024-12-29T18:30:32.416567",
     "status": "completed"
    },
    "tags": []
   },
   "outputs": [],
   "source": [
    "def compute_laplacian(similarity_matrix):\n",
    "    similarity_matrix = similarity_matrix.float()\n",
    "\n",
    "    # Compute the degree matrix (diagonal matrix where each element is the sum of the row in the similarity matrix)\n",
    "    degree_matrix = torch.diag(torch.sum(similarity_matrix, dim=1))\n",
    "\n",
    "    # Compute the Laplacian matrix\n",
    "    laplacian_matrix = degree_matrix - similarity_matrix\n",
    "\n",
    "    return laplacian_matrix"
   ]
  },
  {
   "cell_type": "code",
   "execution_count": 29,
   "id": "6dd08971",
   "metadata": {
    "execution": {
     "iopub.execute_input": "2024-12-29T18:30:32.436030Z",
     "iopub.status.busy": "2024-12-29T18:30:32.435745Z",
     "iopub.status.idle": "2024-12-29T18:30:32.441142Z",
     "shell.execute_reply": "2024-12-29T18:30:32.440812Z"
    },
    "papermill": {
     "duration": 0.010736,
     "end_time": "2024-12-29T18:30:32.441985",
     "exception": false,
     "start_time": "2024-12-29T18:30:32.431249",
     "status": "completed"
    },
    "tags": []
   },
   "outputs": [],
   "source": [
    "def effective_distance(laplacian_matrix):\n",
    "    laplacian_pseudo_inv = torch.pinverse(laplacian_matrix)\n",
    "    effective_distances = []\n",
    "    for anchor_idx in range(0, len(laplacian_matrix), 7):  # Step of 7 for each query\n",
    "        # Extract the anchor, positive, and negative nodes for this query\n",
    "        anchor_node=torch.zeros(len(laplacian_matrix), dtype=torch.float32, device=device)\n",
    "        anchor_node[anchor_idx] = 1\n",
    "\n",
    "        \n",
    "        # Compute the effective distance for this particular anchor\n",
    "        distances = []\n",
    "        for i in range(7-1):\n",
    "            node=torch.zeros(len(laplacian_matrix), dtype=torch.float32, device=device)\n",
    "            node[anchor_idx+(i+1)] = 1\n",
    "            diff = anchor_node - node\n",
    "            dist = torch.matmul(torch.matmul(diff.T, laplacian_pseudo_inv), diff)\n",
    "            distances.append(dist)\n",
    "        \n",
    "        effective_distances.append(torch.stack(distances))\n",
    "    return(effective_distances)"
   ]
  },
  {
   "cell_type": "code",
   "execution_count": 30,
   "id": "e350b13d",
   "metadata": {
    "execution": {
     "iopub.execute_input": "2024-12-29T18:30:32.451031Z",
     "iopub.status.busy": "2024-12-29T18:30:32.450749Z",
     "iopub.status.idle": "2024-12-29T18:30:32.455628Z",
     "shell.execute_reply": "2024-12-29T18:30:32.455313Z"
    },
    "papermill": {
     "duration": 0.010166,
     "end_time": "2024-12-29T18:30:32.456476",
     "exception": false,
     "start_time": "2024-12-29T18:30:32.446310",
     "status": "completed"
    },
    "tags": []
   },
   "outputs": [],
   "source": [
    "def effective_loss(distances):\n",
    "    logits=-torch.stack(distances, dim=0)\n",
    "    labels = torch.zeros(logits.size(0), dtype=torch.long, device=logits.device)  # Positive as class 0\n",
    "    loss = torch.nn.CrossEntropyLoss()(logits, labels)\n",
    "    return loss"
   ]
  },
  {
   "cell_type": "code",
   "execution_count": 31,
   "id": "60c0dd9f",
   "metadata": {
    "execution": {
     "iopub.execute_input": "2024-12-29T18:30:32.465709Z",
     "iopub.status.busy": "2024-12-29T18:30:32.465428Z",
     "iopub.status.idle": "2024-12-29T18:30:36.734004Z",
     "shell.execute_reply": "2024-12-29T18:30:36.733483Z"
    },
    "papermill": {
     "duration": 4.273836,
     "end_time": "2024-12-29T18:30:36.734774",
     "exception": false,
     "start_time": "2024-12-29T18:30:32.460938",
     "status": "completed"
    },
    "tags": []
   },
   "outputs": [
    {
     "data": {
      "text/plain": [
       "16"
      ]
     },
     "execution_count": 31,
     "metadata": {},
     "output_type": "execute_result"
    }
   ],
   "source": [
    "dataset_val = load_dataset('ms_marco', 'v1.1', split='validation')\n",
    "processed_data_val = dataset_val.map(preprocess, remove_columns=dataset_val.column_names)\n",
    "processed_data_val = processed_data_val.filter(lambda x: x['query'] is not None and x['positive'] is not None)\n",
    "contrastive_pairs_val = []\n",
    "for item in processed_data_val:\n",
    "    query = item[\"query\"]\n",
    "    positive = item[\"positive\"]\n",
    "    negatives = item[\"negatives\"]\n",
    "    contrastive_pairs_val.append({\n",
    "        \"anchor\": query,\n",
    "        \"positive\": positive,\n",
    "        \"negatives\": negatives\n",
    "    })\n",
    "contrastive_dataset_val = ContrastiveDataset(contrastive_pairs_val)\n",
    "data_loader_val = DataLoader(contrastive_dataset_val, batch_size=32, shuffle=True)\n",
    "len(data_loader_val)"
   ]
  },
  {
   "cell_type": "code",
   "execution_count": 32,
   "id": "778efd6b",
   "metadata": {
    "execution": {
     "iopub.execute_input": "2024-12-29T18:30:36.746874Z",
     "iopub.status.busy": "2024-12-29T18:30:36.746541Z",
     "iopub.status.idle": "2024-12-29T18:30:37.963123Z",
     "shell.execute_reply": "2024-12-29T18:30:37.962641Z"
    },
    "papermill": {
     "duration": 1.222627,
     "end_time": "2024-12-29T18:30:37.964068",
     "exception": false,
     "start_time": "2024-12-29T18:30:36.741441",
     "status": "completed"
    },
    "tags": []
   },
   "outputs": [],
   "source": [
    "lora_model = lora_model.to(device)"
   ]
  },
  {
   "cell_type": "code",
   "execution_count": 33,
   "id": "32200b1d",
   "metadata": {
    "execution": {
     "iopub.execute_input": "2024-12-29T18:30:37.973834Z",
     "iopub.status.busy": "2024-12-29T18:30:37.973680Z",
     "iopub.status.idle": "2024-12-29T18:30:37.979753Z",
     "shell.execute_reply": "2024-12-29T18:30:37.979424Z"
    },
    "papermill": {
     "duration": 0.011518,
     "end_time": "2024-12-29T18:30:37.980493",
     "exception": false,
     "start_time": "2024-12-29T18:30:37.968975",
     "status": "completed"
    },
    "tags": []
   },
   "outputs": [],
   "source": [
    "def evaluate_mrr(model, data_loader_val):\n",
    "    model.eval()  # Set the model to evaluation mode\n",
    "\n",
    "    total_rr = 0.0\n",
    "    num_queries = 0\n",
    "\n",
    "    with torch.no_grad():  # Disable gradient calculations\n",
    "        for batch in data_loader_val:\n",
    "            anchor_text = batch[0]\n",
    "            positive_text = batch[1]\n",
    "            negative_texts = batch[2]\n",
    "\n",
    "            # Tokenize inputs\n",
    "            anchor_input = tokenizer(anchor_text, return_tensors='pt', padding=True, truncation=True, max_length=512).to(device)\n",
    "            positive_input = tokenizer(positive_text, return_tensors='pt', padding=True, truncation=True, max_length=512).to(device)\n",
    "\n",
    "            # Get embeddings for anchor (query), positive, and negative texts\n",
    "            anchor_embedding = model(**anchor_input).last_hidden_state[:, 0, :]\n",
    "            positive_embedding = model(**positive_input).last_hidden_state[:, 0, :]\n",
    "            negative_embedding = [model(**tokenizer(neg, return_tensors='pt', padding=True, truncation=True, max_length=512).to(device)).last_hidden_state[:, 0, :] for neg in negative_texts]\n",
    "            batch_embeddings = []\n",
    "        # Loop through the batch and extract embeddings for each sample\n",
    "            for i in range(len(anchor_embedding)):  # Loop through the batch size\n",
    "                sample_embeddings = torch.cat(\n",
    "                    [anchor_embedding[i:i+1],  # Query for the current sample\n",
    "                    positive_embedding[i:i+1],  # Positive for the current sample\n",
    "                    torch.stack([neg[i] for neg in negative_embedding])],  # Negatives for the current sample\n",
    "                    dim=0\n",
    "                )\n",
    "                batch_embeddings.append(sample_embeddings)\n",
    "\n",
    "            # Stack all sample embeddings together into a single tensor\n",
    "            all_embeddings = torch.cat(batch_embeddings, dim=0)\n",
    "            sim=F.cosine_similarity(all_embeddings.unsqueeze(1), all_embeddings.unsqueeze(0), dim=2)\n",
    "            laplacian = compute_laplacian(sim)\n",
    "            distances=effective_distance(laplacian)\n",
    "            all_similarities=-torch.stack(distances, dim=0)\n",
    "\n",
    "            # Rank the similarities for each query (descending order)\n",
    "            sorted_similarities, sorted_indices = torch.sort(all_similarities, dim=1, descending=True)\n",
    "\n",
    "            # Find the rank of the first relevant (positive) document\n",
    "            positive_rank = (sorted_indices == 0).nonzero(as_tuple=True)[1] + 1  # +1 to make rank 1-based\n",
    "            total_rr += torch.sum(1.0 / positive_rank.float()).item()  # Reciprocal rank\n",
    "            num_queries += len(positive_rank)\n",
    "\n",
    "    # Compute the average MRR across all queries\n",
    "    mrr = total_rr / num_queries\n",
    "    return mrr\n",
    "\n"
   ]
  },
  {
   "cell_type": "code",
   "execution_count": 34,
   "id": "744f0e65",
   "metadata": {
    "execution": {
     "iopub.execute_input": "2024-12-29T18:30:37.990043Z",
     "iopub.status.busy": "2024-12-29T18:30:37.989883Z",
     "iopub.status.idle": "2024-12-29T18:30:37.995134Z",
     "shell.execute_reply": "2024-12-29T18:30:37.994808Z"
    },
    "papermill": {
     "duration": 0.010758,
     "end_time": "2024-12-29T18:30:37.995952",
     "exception": false,
     "start_time": "2024-12-29T18:30:37.985194",
     "status": "completed"
    },
    "tags": []
   },
   "outputs": [],
   "source": [
    "import os\n",
    "save_dir =\"/dss/dsshome1/07/ra65bex2/srawat\"\n",
    "import time\n",
    "epoch_metrics = []"
   ]
  },
  {
   "cell_type": "code",
   "execution_count": 35,
   "id": "37c6c66b",
   "metadata": {
    "execution": {
     "iopub.execute_input": "2024-12-29T18:30:38.005337Z",
     "iopub.status.busy": "2024-12-29T18:30:38.005187Z",
     "iopub.status.idle": "2024-12-29T18:31:44.081628Z",
     "shell.execute_reply": "2024-12-29T18:31:44.081096Z"
    },
    "papermill": {
     "duration": 66.081882,
     "end_time": "2024-12-29T18:31:44.082397",
     "exception": false,
     "start_time": "2024-12-29T18:30:38.000515",
     "status": "completed"
    },
    "tags": []
   },
   "outputs": [
    {
     "name": "stderr",
     "output_type": "stream",
     "text": [
      "/tmp/ipykernel_1322420/2546139923.py:16: UserWarning: The use of `x.T` on tensors of dimension other than 2 to reverse their shape is deprecated and it will throw an error in a future release. Consider `x.mT` to transpose batches of matrices or `x.permute(*torch.arange(x.ndim - 1, -1, -1))` to reverse the dimensions of a tensor. (Triggered internally at ../aten/src/ATen/native/TensorShape.cpp:3683.)\n",
      "  dist = torch.matmul(torch.matmul(diff.T, laplacian_pseudo_inv), diff)\n"
     ]
    },
    {
     "name": "stdout",
     "output_type": "stream",
     "text": [
      "EPOCH 1:\n",
      "Checkpoint saved: /dss/dsshome1/07/ra65bex2/srawat\n",
      "Epoch 1/3, Loss: 1.7918645143508911\n"
     ]
    },
    {
     "name": "stdout",
     "output_type": "stream",
     "text": [
      "Mean Reciprocal Rank (MRR) for validation set: 0.3945\n",
      "Epoch 1 took 0.4083 minutes.\n",
      "\n",
      "\n"
     ]
    },
    {
     "name": "stdout",
     "output_type": "stream",
     "text": [
      "EPOCH 2:\n",
      "Checkpoint saved: /dss/dsshome1/07/ra65bex2/srawat\n",
      "Epoch 2/3, Loss: 1.7918437644839287\n"
     ]
    },
    {
     "name": "stdout",
     "output_type": "stream",
     "text": [
      "Mean Reciprocal Rank (MRR) for validation set: 0.3911\n",
      "Epoch 2 took 0.3444 minutes.\n",
      "\n",
      "\n"
     ]
    },
    {
     "name": "stdout",
     "output_type": "stream",
     "text": [
      "EPOCH 3:\n",
      "Checkpoint saved: /dss/dsshome1/07/ra65bex2/srawat\n",
      "Epoch 3/3, Loss: 1.7918404340744019\n"
     ]
    },
    {
     "name": "stdout",
     "output_type": "stream",
     "text": [
      "Mean Reciprocal Rank (MRR) for validation set: 0.3799\n",
      "Epoch 3 took 0.3484 minutes.\n",
      "\n",
      "\n"
     ]
    }
   ],
   "source": [
    "for epoch in range(num_epochs):\n",
    "    start_time = time.time()\n",
    "    lora_model.train()  # Set the model to training mode\n",
    "    \n",
    "    total_loss = 0.0\n",
    "    for batch in data_loader:\n",
    "        # Extract the anchor, positive, and negative pairs from the batch\n",
    "        anchor_texts = batch[0]\n",
    "        positive_texts = batch[1]\n",
    "        negative_texts = batch[2]\n",
    "        # Tokenize the text pairs and move them to the GPU\n",
    "        anchor_inputs = tokenizer(anchor_texts, return_tensors='pt', padding=True, truncation=True, max_length=512).to(device)\n",
    "        positive_inputs = tokenizer(positive_texts, return_tensors='pt', padding=True, truncation=True, max_length=512).to(device)\n",
    "\n",
    "        # Get embeddings (CLS token representation) from BERT for each input\n",
    "    \n",
    "        anchor_embedding = lora_model(**anchor_inputs).last_hidden_state[:, 0, :]\n",
    "        positive_embedding = lora_model(**positive_inputs).last_hidden_state[:, 0, :]\n",
    "        negative_embedding = [lora_model(**tokenizer(neg, return_tensors='pt', padding=True, truncation=True, max_length=512).to(device)).last_hidden_state[:, 0, :] for neg in negative_texts]\n",
    "\n",
    "        batch_embeddings = []\n",
    "        # Loop through the batch and extract embeddings for each sample\n",
    "        for i in range(len(anchor_embedding)):  # Loop through the batch size\n",
    "            sample_embeddings = torch.cat(\n",
    "                [anchor_embedding[i:i+1],  # Query for the current sample\n",
    "                positive_embedding[i:i+1],  # Positive for the current sample\n",
    "                torch.stack([neg[i] for neg in negative_embedding])],  # Negatives for the current sample\n",
    "                dim=0\n",
    "            )\n",
    "            batch_embeddings.append(sample_embeddings)\n",
    "\n",
    "        # Stack all sample embeddings together into a single tensor\n",
    "        all_embeddings = torch.cat(batch_embeddings, dim=0)\n",
    "        sim=F.cosine_similarity(all_embeddings.unsqueeze(1), all_embeddings.unsqueeze(0), dim=2)\n",
    "        laplacian = compute_laplacian(sim)\n",
    "        distances=effective_distance(laplacian)\n",
    "\n",
    "        # Compute the InfoNCE loss\n",
    "        loss = effective_loss(distances)\n",
    "        \n",
    "        # Backpropagation\n",
    "        optimizer.zero_grad()  # Clear previous gradients\n",
    "        loss.backward()  # Compute gradients\n",
    "        optimizer.step()  # Update model parameters\n",
    "        \n",
    "        total_loss += loss.item()\n",
    "    save_path = os.path.join(save_dir, f\"effective_checkpoint_epoch_{epoch+1}.pth\")\n",
    "    torch.save(lora_model, save_path)\n",
    "    print(f\"EPOCH {epoch+1}:\")\n",
    "    print(f\"Checkpoint saved: {save_dir}\")\n",
    "    print(f\"Epoch {epoch+1}/{num_epochs}, Loss: {total_loss / len(data_loader)}\")\n",
    "    mrr_validation = evaluate_mrr(lora_model, data_loader_val)\n",
    "    #mrr_train = evaluate_mrr(lora_model, data_loader)\n",
    "    #print(f\"Mean Reciprocal Rank (MRR) for training set: {mrr_train:.4f}\")\n",
    "    print(f\"Mean Reciprocal Rank (MRR) for validation set: {mrr_validation:.4f}\")\n",
    "    end_time = time.time()\n",
    "    print(f\"Epoch {epoch+1} took {(end_time - start_time) / 60:.4f} minutes.\")\n",
    "    print(f\"\\n\")\n",
    "    epoch_metrics.append({\n",
    "    'epoch': epoch + 1,\n",
    "    'training_loss': total_loss / len(data_loader),\n",
    "    'mrr_validation': mrr_validation,\n",
    "    'time_taken_minutes': (end_time - start_time) / 60\n",
    "    })\n"
   ]
  },
  {
   "cell_type": "code",
   "execution_count": 36,
   "id": "5ea83a2d",
   "metadata": {
    "execution": {
     "iopub.execute_input": "2024-12-29T18:31:44.099262Z",
     "iopub.status.busy": "2024-12-29T18:31:44.099059Z",
     "iopub.status.idle": "2024-12-29T18:31:44.106143Z",
     "shell.execute_reply": "2024-12-29T18:31:44.105775Z"
    },
    "papermill": {
     "duration": 0.013331,
     "end_time": "2024-12-29T18:31:44.106786",
     "exception": false,
     "start_time": "2024-12-29T18:31:44.093455",
     "status": "completed"
    },
    "tags": []
   },
   "outputs": [],
   "source": [
    "import json\n",
    "with open(save_dir + '/effective_epoch_metrics.json', 'w') as f:\n",
    "    json.dump(epoch_metrics, f)"
   ]
  },
  {
   "cell_type": "code",
   "execution_count": null,
   "id": "d662fddd",
   "metadata": {
    "papermill": {
     "duration": 0.004569,
     "end_time": "2024-12-29T18:31:44.116119",
     "exception": false,
     "start_time": "2024-12-29T18:31:44.111550",
     "status": "completed"
    },
    "tags": []
   },
   "outputs": [],
   "source": []
  }
 ],
 "metadata": {
  "kernelspec": {
   "display_name": "Python (myenv)",
   "language": "python",
   "name": "myenv"
  },
  "language_info": {
   "codemirror_mode": {
    "name": "ipython",
    "version": 3
   },
   "file_extension": ".py",
   "mimetype": "text/x-python",
   "name": "python",
   "nbconvert_exporter": "python",
   "pygments_lexer": "ipython3",
   "version": "3.12.7"
  },
  "papermill": {
   "default_parameters": {},
   "duration": 129.480262,
   "end_time": "2024-12-29T18:31:46.238377",
   "environment_variables": {},
   "exception": null,
   "input_path": "app_effective.ipynb",
   "output_path": "app_effective_output.ipynb",
   "parameters": {},
   "start_time": "2024-12-29T18:29:36.758115",
   "version": "2.6.0"
  }
 },
 "nbformat": 4,
 "nbformat_minor": 5
}
