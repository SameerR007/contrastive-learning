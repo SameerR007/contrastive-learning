{
 "cells": [
  {
   "cell_type": "code",
   "execution_count": 1,
   "id": "4097eec0",
   "metadata": {
    "execution": {
     "iopub.execute_input": "2025-01-12T23:08:08.025337Z",
     "iopub.status.busy": "2025-01-12T23:08:08.025204Z",
     "iopub.status.idle": "2025-01-12T23:08:14.245531Z",
     "shell.execute_reply": "2025-01-12T23:08:14.245096Z"
    },
    "papermill": {
     "duration": 6.226052,
     "end_time": "2025-01-12T23:08:14.246322",
     "exception": false,
     "start_time": "2025-01-12T23:08:08.020270",
     "status": "completed"
    },
    "tags": []
   },
   "outputs": [],
   "source": [
    "from datasets import load_dataset"
   ]
  },
  {
   "cell_type": "code",
   "execution_count": 2,
   "id": "b0b171de",
   "metadata": {
    "execution": {
     "iopub.execute_input": "2025-01-12T23:08:14.256693Z",
     "iopub.status.busy": "2025-01-12T23:08:14.256461Z",
     "iopub.status.idle": "2025-01-12T23:08:19.516844Z",
     "shell.execute_reply": "2025-01-12T23:08:19.516418Z"
    },
    "papermill": {
     "duration": 5.265126,
     "end_time": "2025-01-12T23:08:19.517543",
     "exception": false,
     "start_time": "2025-01-12T23:08:14.252417",
     "status": "completed"
    },
    "tags": []
   },
   "outputs": [],
   "source": [
    "dataset = load_dataset('ms_marco', 'v1.1')"
   ]
  },
  {
   "cell_type": "code",
   "execution_count": 3,
   "id": "a214caa9",
   "metadata": {
    "execution": {
     "iopub.execute_input": "2025-01-12T23:08:19.528678Z",
     "iopub.status.busy": "2025-01-12T23:08:19.528520Z",
     "iopub.status.idle": "2025-01-12T23:08:19.533137Z",
     "shell.execute_reply": "2025-01-12T23:08:19.532761Z"
    },
    "papermill": {
     "duration": 0.009341,
     "end_time": "2025-01-12T23:08:19.533737",
     "exception": false,
     "start_time": "2025-01-12T23:08:19.524396",
     "status": "completed"
    },
    "tags": []
   },
   "outputs": [
    {
     "data": {
      "text/plain": [
       "DatasetDict({\n",
       "    validation: Dataset({\n",
       "        features: ['answers', 'passages', 'query', 'query_id', 'query_type', 'wellFormedAnswers'],\n",
       "        num_rows: 10047\n",
       "    })\n",
       "    train: Dataset({\n",
       "        features: ['answers', 'passages', 'query', 'query_id', 'query_type', 'wellFormedAnswers'],\n",
       "        num_rows: 82326\n",
       "    })\n",
       "    test: Dataset({\n",
       "        features: ['answers', 'passages', 'query', 'query_id', 'query_type', 'wellFormedAnswers'],\n",
       "        num_rows: 9650\n",
       "    })\n",
       "})"
      ]
     },
     "execution_count": 3,
     "metadata": {},
     "output_type": "execute_result"
    }
   ],
   "source": [
    "dataset"
   ]
  },
  {
   "cell_type": "code",
   "execution_count": 4,
   "id": "f7cc2ebf",
   "metadata": {
    "execution": {
     "iopub.execute_input": "2025-01-12T23:08:19.542147Z",
     "iopub.status.busy": "2025-01-12T23:08:19.541882Z",
     "iopub.status.idle": "2025-01-12T23:08:22.629639Z",
     "shell.execute_reply": "2025-01-12T23:08:22.629229Z"
    },
    "papermill": {
     "duration": 3.092704,
     "end_time": "2025-01-12T23:08:22.630384",
     "exception": false,
     "start_time": "2025-01-12T23:08:19.537680",
     "status": "completed"
    },
    "tags": []
   },
   "outputs": [],
   "source": [
    "dataset_train = load_dataset('ms_marco', 'v1.1', split='train')"
   ]
  },
  {
   "cell_type": "code",
   "execution_count": 5,
   "id": "3e540419",
   "metadata": {
    "execution": {
     "iopub.execute_input": "2025-01-12T23:08:22.639150Z",
     "iopub.status.busy": "2025-01-12T23:08:22.638847Z",
     "iopub.status.idle": "2025-01-12T23:08:22.641810Z",
     "shell.execute_reply": "2025-01-12T23:08:22.641461Z"
    },
    "papermill": {
     "duration": 0.007824,
     "end_time": "2025-01-12T23:08:22.642403",
     "exception": false,
     "start_time": "2025-01-12T23:08:22.634579",
     "status": "completed"
    },
    "tags": []
   },
   "outputs": [
    {
     "data": {
      "text/plain": [
       "Dataset({\n",
       "    features: ['answers', 'passages', 'query', 'query_id', 'query_type', 'wellFormedAnswers'],\n",
       "    num_rows: 82326\n",
       "})"
      ]
     },
     "execution_count": 5,
     "metadata": {},
     "output_type": "execute_result"
    }
   ],
   "source": [
    "dataset_train"
   ]
  },
  {
   "cell_type": "code",
   "execution_count": 6,
   "id": "13d28228",
   "metadata": {
    "execution": {
     "iopub.execute_input": "2025-01-12T23:08:22.650791Z",
     "iopub.status.busy": "2025-01-12T23:08:22.650654Z",
     "iopub.status.idle": "2025-01-12T23:08:22.664408Z",
     "shell.execute_reply": "2025-01-12T23:08:22.664003Z"
    },
    "papermill": {
     "duration": 0.01851,
     "end_time": "2025-01-12T23:08:22.664946",
     "exception": false,
     "start_time": "2025-01-12T23:08:22.646436",
     "status": "completed"
    },
    "tags": []
   },
   "outputs": [],
   "source": [
    "def preprocess(example):\n",
    "    positive_passages=[]\n",
    "    for p in enumerate(example['passages'][\"is_selected\"]):\n",
    "        if p[1]==1:\n",
    "            positive_passages.append(example[\"passages\"][\"passage_text\"][p[0]])\n",
    "    negative_passages = []\n",
    "    for p in enumerate(example['passages'][\"is_selected\"]):\n",
    "        if p[1]==0:\n",
    "            negative_passages.append(example[\"passages\"][\"passage_text\"][p[0]])\n",
    "    if (len(positive_passages)>0 and len(negative_passages)>=5):\n",
    "        positive = positive_passages[0]\n",
    "        negatives = negative_passages[:5]\n",
    "        return {\n",
    "            \"query\": example[\"query\"],\n",
    "            \"positive\": positive,\n",
    "            \"negatives\": negatives\n",
    "        }\n",
    "    else:\n",
    "        return {\"query\": None, \"positive\": None, \"negatives\": None}"
   ]
  },
  {
   "cell_type": "code",
   "execution_count": 7,
   "id": "f3e9983e",
   "metadata": {
    "execution": {
     "iopub.execute_input": "2025-01-12T23:08:22.673305Z",
     "iopub.status.busy": "2025-01-12T23:08:22.673039Z",
     "iopub.status.idle": "2025-01-12T23:08:22.950431Z",
     "shell.execute_reply": "2025-01-12T23:08:22.950059Z"
    },
    "papermill": {
     "duration": 0.282188,
     "end_time": "2025-01-12T23:08:22.951062",
     "exception": false,
     "start_time": "2025-01-12T23:08:22.668874",
     "status": "completed"
    },
    "tags": []
   },
   "outputs": [],
   "source": [
    "processed_data_train = dataset_train.map(preprocess, remove_columns=dataset_train.column_names)"
   ]
  },
  {
   "cell_type": "code",
   "execution_count": 8,
   "id": "709b53fe",
   "metadata": {
    "execution": {
     "iopub.execute_input": "2025-01-12T23:08:22.959756Z",
     "iopub.status.busy": "2025-01-12T23:08:22.959621Z",
     "iopub.status.idle": "2025-01-12T23:08:22.982279Z",
     "shell.execute_reply": "2025-01-12T23:08:22.981922Z"
    },
    "papermill": {
     "duration": 0.027533,
     "end_time": "2025-01-12T23:08:22.982924",
     "exception": false,
     "start_time": "2025-01-12T23:08:22.955391",
     "status": "completed"
    },
    "tags": []
   },
   "outputs": [],
   "source": [
    "processed_data_train = processed_data_train.filter(lambda x: x['query'] is not None and x['positive'] is not None)"
   ]
  },
  {
   "cell_type": "code",
   "execution_count": 9,
   "id": "9648aae1",
   "metadata": {
    "execution": {
     "iopub.execute_input": "2025-01-12T23:08:22.991886Z",
     "iopub.status.busy": "2025-01-12T23:08:22.991606Z",
     "iopub.status.idle": "2025-01-12T23:08:28.867517Z",
     "shell.execute_reply": "2025-01-12T23:08:28.867052Z"
    },
    "papermill": {
     "duration": 5.88116,
     "end_time": "2025-01-12T23:08:28.868393",
     "exception": false,
     "start_time": "2025-01-12T23:08:22.987233",
     "status": "completed"
    },
    "tags": []
   },
   "outputs": [],
   "source": [
    "contrastive_pairs_train = []\n",
    "for item in processed_data_train:\n",
    "    query = item[\"query\"]\n",
    "    positive = item[\"positive\"]\n",
    "    negatives = item[\"negatives\"]\n",
    "    contrastive_pairs_train.append({\n",
    "        \"anchor\": query,\n",
    "        \"positive\": positive,\n",
    "        \"negatives\": negatives\n",
    "    })"
   ]
  },
  {
   "cell_type": "code",
   "execution_count": 10,
   "id": "f7c8c7d6",
   "metadata": {
    "execution": {
     "iopub.execute_input": "2025-01-12T23:08:28.879463Z",
     "iopub.status.busy": "2025-01-12T23:08:28.879173Z",
     "iopub.status.idle": "2025-01-12T23:08:28.882272Z",
     "shell.execute_reply": "2025-01-12T23:08:28.881918Z"
    },
    "papermill": {
     "duration": 0.008145,
     "end_time": "2025-01-12T23:08:28.882873",
     "exception": false,
     "start_time": "2025-01-12T23:08:28.874728",
     "status": "completed"
    },
    "tags": []
   },
   "outputs": [
    {
     "data": {
      "text/plain": [
       "74538"
      ]
     },
     "execution_count": 10,
     "metadata": {},
     "output_type": "execute_result"
    }
   ],
   "source": [
    "len(contrastive_pairs_train)"
   ]
  },
  {
   "cell_type": "code",
   "execution_count": 11,
   "id": "41345331",
   "metadata": {
    "execution": {
     "iopub.execute_input": "2025-01-12T23:08:28.891492Z",
     "iopub.status.busy": "2025-01-12T23:08:28.891362Z",
     "iopub.status.idle": "2025-01-12T23:08:40.532776Z",
     "shell.execute_reply": "2025-01-12T23:08:40.532168Z"
    },
    "papermill": {
     "duration": 11.646702,
     "end_time": "2025-01-12T23:08:40.533712",
     "exception": false,
     "start_time": "2025-01-12T23:08:28.887010",
     "status": "completed"
    },
    "tags": []
   },
   "outputs": [],
   "source": [
    "from torch.utils.data import DataLoader"
   ]
  },
  {
   "cell_type": "code",
   "execution_count": 12,
   "id": "08e2dab4",
   "metadata": {
    "execution": {
     "iopub.execute_input": "2025-01-12T23:08:40.544947Z",
     "iopub.status.busy": "2025-01-12T23:08:40.544743Z",
     "iopub.status.idle": "2025-01-12T23:08:40.547975Z",
     "shell.execute_reply": "2025-01-12T23:08:40.547612Z"
    },
    "papermill": {
     "duration": 0.008485,
     "end_time": "2025-01-12T23:08:40.548550",
     "exception": false,
     "start_time": "2025-01-12T23:08:40.540065",
     "status": "completed"
    },
    "tags": []
   },
   "outputs": [],
   "source": [
    "class ContrastiveDataset:\n",
    "    def __init__(self, pairs):\n",
    "        self.pairs = pairs\n",
    "\n",
    "    def __len__(self):\n",
    "        return len(self.pairs)\n",
    "\n",
    "    def __getitem__(self, idx):\n",
    "        item = self.pairs[idx]\n",
    "        return item[\"anchor\"], item[\"positive\"], item[\"negatives\"]"
   ]
  },
  {
   "cell_type": "code",
   "execution_count": 13,
   "id": "f0ab7a24",
   "metadata": {
    "execution": {
     "iopub.execute_input": "2025-01-12T23:08:40.557550Z",
     "iopub.status.busy": "2025-01-12T23:08:40.557248Z",
     "iopub.status.idle": "2025-01-12T23:08:40.640479Z",
     "shell.execute_reply": "2025-01-12T23:08:40.639991Z"
    },
    "papermill": {
     "duration": 0.088373,
     "end_time": "2025-01-12T23:08:40.641200",
     "exception": false,
     "start_time": "2025-01-12T23:08:40.552827",
     "status": "completed"
    },
    "tags": []
   },
   "outputs": [],
   "source": [
    "contrastive_dataset_train = ContrastiveDataset(contrastive_pairs_train)"
   ]
  },
  {
   "cell_type": "code",
   "execution_count": 14,
   "id": "f1755ed3",
   "metadata": {
    "execution": {
     "iopub.execute_input": "2025-01-12T23:08:40.650435Z",
     "iopub.status.busy": "2025-01-12T23:08:40.650176Z",
     "iopub.status.idle": "2025-01-12T23:08:40.655050Z",
     "shell.execute_reply": "2025-01-12T23:08:40.654644Z"
    },
    "papermill": {
     "duration": 0.009795,
     "end_time": "2025-01-12T23:08:40.655573",
     "exception": false,
     "start_time": "2025-01-12T23:08:40.645778",
     "status": "completed"
    },
    "tags": []
   },
   "outputs": [],
   "source": [
    "\n",
    "data_loader_train = DataLoader(contrastive_dataset_train, batch_size=32, shuffle=True)"
   ]
  },
  {
   "cell_type": "code",
   "execution_count": 15,
   "id": "ea37fd24",
   "metadata": {
    "execution": {
     "iopub.execute_input": "2025-01-12T23:08:40.664274Z",
     "iopub.status.busy": "2025-01-12T23:08:40.664150Z",
     "iopub.status.idle": "2025-01-12T23:08:40.668582Z",
     "shell.execute_reply": "2025-01-12T23:08:40.668237Z"
    },
    "papermill": {
     "duration": 0.009364,
     "end_time": "2025-01-12T23:08:40.669121",
     "exception": false,
     "start_time": "2025-01-12T23:08:40.659757",
     "status": "completed"
    },
    "tags": []
   },
   "outputs": [
    {
     "data": {
      "text/plain": [
       "2330"
      ]
     },
     "execution_count": 15,
     "metadata": {},
     "output_type": "execute_result"
    }
   ],
   "source": [
    "len(data_loader_train)"
   ]
  },
  {
   "cell_type": "code",
   "execution_count": 16,
   "id": "2fb6b03f",
   "metadata": {
    "execution": {
     "iopub.execute_input": "2025-01-12T23:08:40.678150Z",
     "iopub.status.busy": "2025-01-12T23:08:40.677918Z",
     "iopub.status.idle": "2025-01-12T23:08:53.209730Z",
     "shell.execute_reply": "2025-01-12T23:08:53.209202Z"
    },
    "papermill": {
     "duration": 12.537289,
     "end_time": "2025-01-12T23:08:53.210661",
     "exception": false,
     "start_time": "2025-01-12T23:08:40.673372",
     "status": "completed"
    },
    "tags": []
   },
   "outputs": [],
   "source": [
    "from transformers import AutoTokenizer, AutoModel\n",
    "tokenizer = AutoTokenizer.from_pretrained(\"bert-base-uncased\")"
   ]
  },
  {
   "cell_type": "code",
   "execution_count": 17,
   "id": "1aa5d6c8",
   "metadata": {
    "execution": {
     "iopub.execute_input": "2025-01-12T23:08:53.222395Z",
     "iopub.status.busy": "2025-01-12T23:08:53.222140Z",
     "iopub.status.idle": "2025-01-12T23:08:57.960283Z",
     "shell.execute_reply": "2025-01-12T23:08:57.959822Z"
    },
    "papermill": {
     "duration": 4.743728,
     "end_time": "2025-01-12T23:08:57.961138",
     "exception": false,
     "start_time": "2025-01-12T23:08:53.217410",
     "status": "completed"
    },
    "tags": []
   },
   "outputs": [],
   "source": [
    "model = AutoModel.from_pretrained(\"bert-base-uncased\")"
   ]
  },
  {
   "cell_type": "code",
   "execution_count": 18,
   "id": "db23248a",
   "metadata": {
    "execution": {
     "iopub.execute_input": "2025-01-12T23:08:57.970893Z",
     "iopub.status.busy": "2025-01-12T23:08:57.970633Z",
     "iopub.status.idle": "2025-01-12T23:08:58.643979Z",
     "shell.execute_reply": "2025-01-12T23:08:58.643539Z"
    },
    "papermill": {
     "duration": 0.678753,
     "end_time": "2025-01-12T23:08:58.644775",
     "exception": false,
     "start_time": "2025-01-12T23:08:57.966022",
     "status": "completed"
    },
    "tags": []
   },
   "outputs": [],
   "source": [
    "from peft import LoraConfig, get_peft_model"
   ]
  },
  {
   "cell_type": "code",
   "execution_count": 19,
   "id": "9e589322",
   "metadata": {
    "execution": {
     "iopub.execute_input": "2025-01-12T23:08:58.656426Z",
     "iopub.status.busy": "2025-01-12T23:08:58.656183Z",
     "iopub.status.idle": "2025-01-12T23:08:58.658515Z",
     "shell.execute_reply": "2025-01-12T23:08:58.658106Z"
    },
    "papermill": {
     "duration": 0.007719,
     "end_time": "2025-01-12T23:08:58.659083",
     "exception": false,
     "start_time": "2025-01-12T23:08:58.651364",
     "status": "completed"
    },
    "tags": []
   },
   "outputs": [],
   "source": [
    "lora_config = LoraConfig(\n",
    "    task_type= \"FEATURE_EXTRACTION\"  # Sequence-level task (e.g., contrastive learning)\n",
    ")"
   ]
  },
  {
   "cell_type": "code",
   "execution_count": 20,
   "id": "ff26ce2d",
   "metadata": {
    "execution": {
     "iopub.execute_input": "2025-01-12T23:08:58.668206Z",
     "iopub.status.busy": "2025-01-12T23:08:58.668035Z",
     "iopub.status.idle": "2025-01-12T23:08:58.962630Z",
     "shell.execute_reply": "2025-01-12T23:08:58.962156Z"
    },
    "papermill": {
     "duration": 0.300046,
     "end_time": "2025-01-12T23:08:58.963514",
     "exception": false,
     "start_time": "2025-01-12T23:08:58.663468",
     "status": "completed"
    },
    "tags": []
   },
   "outputs": [],
   "source": [
    "lora_model = get_peft_model(model, lora_config)"
   ]
  },
  {
   "cell_type": "code",
   "execution_count": 21,
   "id": "3c33b353",
   "metadata": {
    "execution": {
     "iopub.execute_input": "2025-01-12T23:08:58.973494Z",
     "iopub.status.busy": "2025-01-12T23:08:58.973246Z",
     "iopub.status.idle": "2025-01-12T23:08:58.975656Z",
     "shell.execute_reply": "2025-01-12T23:08:58.975254Z"
    },
    "papermill": {
     "duration": 0.007746,
     "end_time": "2025-01-12T23:08:58.976301",
     "exception": false,
     "start_time": "2025-01-12T23:08:58.968555",
     "status": "completed"
    },
    "tags": []
   },
   "outputs": [],
   "source": [
    "import torch\n",
    "import torch.nn as nn\n",
    "import torch.optim as optim"
   ]
  },
  {
   "cell_type": "code",
   "execution_count": 22,
   "id": "667ede6b",
   "metadata": {
    "execution": {
     "iopub.execute_input": "2025-01-12T23:08:58.985555Z",
     "iopub.status.busy": "2025-01-12T23:08:58.985428Z",
     "iopub.status.idle": "2025-01-12T23:08:58.989994Z",
     "shell.execute_reply": "2025-01-12T23:08:58.989651Z"
    },
    "papermill": {
     "duration": 0.009763,
     "end_time": "2025-01-12T23:08:58.990561",
     "exception": false,
     "start_time": "2025-01-12T23:08:58.980798",
     "status": "completed"
    },
    "tags": []
   },
   "outputs": [],
   "source": [
    "class HyperbolicEmbeddingLayer(nn.Module):\n",
    "    def __init__(self, embed_dim):\n",
    "        super(HyperbolicEmbeddingLayer, self).__init__()\n",
    "        self.embed_dim = embed_dim\n",
    "        self.fc = nn.Linear(768, embed_dim)  # Assuming 768-D input from BERT\n",
    "\n",
    "    def forward(self, x):\n",
    "        embedding = self.fc(x)\n",
    "        return embedding / torch.norm(embedding, dim=-1, keepdim=True)"
   ]
  },
  {
   "cell_type": "code",
   "execution_count": 23,
   "id": "38e445a3",
   "metadata": {
    "execution": {
     "iopub.execute_input": "2025-01-12T23:08:59.000082Z",
     "iopub.status.busy": "2025-01-12T23:08:58.999814Z",
     "iopub.status.idle": "2025-01-12T23:08:59.132460Z",
     "shell.execute_reply": "2025-01-12T23:08:59.132044Z"
    },
    "papermill": {
     "duration": 0.137857,
     "end_time": "2025-01-12T23:08:59.133049",
     "exception": false,
     "start_time": "2025-01-12T23:08:58.995192",
     "status": "completed"
    },
    "tags": []
   },
   "outputs": [],
   "source": [
    "def lorentzian_distance(x, y):\n",
    "    \n",
    "    # Compute the dot product and the norms of the vectors\n",
    "    dot_product = torch.sum(x * y, dim=-1)\n",
    "    norm_x = torch.norm(x, dim=-1)\n",
    "    norm_y = torch.norm(y, dim=-1)\n",
    "    \n",
    "    # Calculate the Lorentzian distance\n",
    "    distance = torch.acosh(-dot_product + torch.sqrt((1 + norm_x**2) * (1 + norm_y**2)))\n",
    "    return distance"
   ]
  },
  {
   "cell_type": "code",
   "execution_count": 24,
   "id": "27c5e762",
   "metadata": {
    "execution": {
     "iopub.execute_input": "2025-01-12T23:08:59.142762Z",
     "iopub.status.busy": "2025-01-12T23:08:59.142465Z",
     "iopub.status.idle": "2025-01-12T23:08:59.145929Z",
     "shell.execute_reply": "2025-01-12T23:08:59.145524Z"
    },
    "papermill": {
     "duration": 0.008968,
     "end_time": "2025-01-12T23:08:59.146549",
     "exception": false,
     "start_time": "2025-01-12T23:08:59.137581",
     "status": "completed"
    },
    "tags": []
   },
   "outputs": [],
   "source": [
    "def info_nce_loss(anchor_embedding, positive_embedding, negative_embedding, distance_fn):\n",
    "    # Compute distances\n",
    "    pos_dist = distance_fn(anchor_embedding, positive_embedding)  # Anchor-positive\n",
    "    neg_dist = torch.stack([distance_fn(anchor_embedding, neg) for neg in negative_embedding], dim=-1)  # Anchor-negatives\n",
    "    \n",
    "    # Concatenate positive and negative distances\n",
    "    logits = torch.cat([-pos_dist.unsqueeze(1), -neg_dist], dim=1)\n",
    "    labels = torch.zeros(logits.size(0), dtype=torch.long, device=logits.device)  # Positive as class 0\n",
    "\n",
    "    # Compute CrossEntropy loss\n",
    "    loss = torch.nn.CrossEntropyLoss()(logits, labels)\n",
    "    return loss"
   ]
  },
  {
   "cell_type": "code",
   "execution_count": 25,
   "id": "8dfc53dd",
   "metadata": {
    "execution": {
     "iopub.execute_input": "2025-01-12T23:08:59.156228Z",
     "iopub.status.busy": "2025-01-12T23:08:59.155842Z",
     "iopub.status.idle": "2025-01-12T23:08:59.159088Z",
     "shell.execute_reply": "2025-01-12T23:08:59.158695Z"
    },
    "papermill": {
     "duration": 0.008699,
     "end_time": "2025-01-12T23:08:59.159704",
     "exception": false,
     "start_time": "2025-01-12T23:08:59.151005",
     "status": "completed"
    },
    "tags": []
   },
   "outputs": [],
   "source": [
    "def exterior_angle(x_space, y_space, c):\n",
    "    norm_x_space = torch.norm(x_space, p=2, dim=-1)\n",
    "    norm_y_space = torch.norm(y_space, p=2, dim=-1)\n",
    "    x_time = torch.sqrt(1/c + norm_x_space**2)\n",
    "    y_time = torch.sqrt(1/c + norm_y_space**2)\n",
    "    dot_product = torch.sum(x_space * y_space, dim=-1)\n",
    "    lorentz_inner_product =  dot_product - x_time * y_time\n",
    "    numerator = y_time + x_time * c * lorentz_inner_product\n",
    "    denominator = norm_x_space * torch.sqrt((c * lorentz_inner_product)**2 - 1)\n",
    "    ext_angle = torch.acos(numerator / denominator)\n",
    "    return ext_angle"
   ]
  },
  {
   "cell_type": "code",
   "execution_count": 26,
   "id": "fa965115",
   "metadata": {
    "execution": {
     "iopub.execute_input": "2025-01-12T23:08:59.169143Z",
     "iopub.status.busy": "2025-01-12T23:08:59.168817Z",
     "iopub.status.idle": "2025-01-12T23:08:59.172015Z",
     "shell.execute_reply": "2025-01-12T23:08:59.171625Z"
    },
    "papermill": {
     "duration": 0.008397,
     "end_time": "2025-01-12T23:08:59.172587",
     "exception": false,
     "start_time": "2025-01-12T23:08:59.164190",
     "status": "completed"
    },
    "tags": []
   },
   "outputs": [],
   "source": [
    "def entailment_loss(x, y, c=1, K=0.1):\n",
    "    # Compute half-aperture\n",
    "    aperture = torch.asin(2 * K / (c * torch.norm(x, p=2, dim=-1)))  # Half-aperture formula\n",
    "    \n",
    "    # Compute exterior angle using the provided formula\n",
    "    # Simplified for demonstration; the actual formula needs to handle Poincaré embeddings\n",
    "    ext_angle = exterior_angle(x_space=x,y_space=y,c=c)\n",
    "    \n",
    "    # Compute the loss\n",
    "    loss = torch.max(torch.zeros_like(ext_angle), ext_angle - aperture)\n",
    "    return loss.mean()"
   ]
  },
  {
   "cell_type": "code",
   "execution_count": 27,
   "id": "ea47fb07",
   "metadata": {
    "execution": {
     "iopub.execute_input": "2025-01-12T23:08:59.181913Z",
     "iopub.status.busy": "2025-01-12T23:08:59.181641Z",
     "iopub.status.idle": "2025-01-12T23:08:59.185607Z",
     "shell.execute_reply": "2025-01-12T23:08:59.185251Z"
    },
    "papermill": {
     "duration": 0.009238,
     "end_time": "2025-01-12T23:08:59.186238",
     "exception": false,
     "start_time": "2025-01-12T23:08:59.177000",
     "status": "completed"
    },
    "tags": []
   },
   "outputs": [],
   "source": [
    "optimizer = torch.optim.AdamW(lora_model.parameters(), lr=5e-5)"
   ]
  },
  {
   "cell_type": "code",
   "execution_count": 28,
   "id": "d195a666",
   "metadata": {
    "execution": {
     "iopub.execute_input": "2025-01-12T23:08:59.195524Z",
     "iopub.status.busy": "2025-01-12T23:08:59.195329Z",
     "iopub.status.idle": "2025-01-12T23:08:59.199102Z",
     "shell.execute_reply": "2025-01-12T23:08:59.198717Z"
    },
    "papermill": {
     "duration": 0.009033,
     "end_time": "2025-01-12T23:08:59.199719",
     "exception": false,
     "start_time": "2025-01-12T23:08:59.190686",
     "status": "completed"
    },
    "tags": []
   },
   "outputs": [],
   "source": [
    "num_epochs=3"
   ]
  },
  {
   "cell_type": "code",
   "execution_count": 29,
   "id": "d1e22327",
   "metadata": {
    "execution": {
     "iopub.execute_input": "2025-01-12T23:08:59.209059Z",
     "iopub.status.busy": "2025-01-12T23:08:59.208820Z",
     "iopub.status.idle": "2025-01-12T23:08:59.673315Z",
     "shell.execute_reply": "2025-01-12T23:08:59.672856Z"
    },
    "papermill": {
     "duration": 0.470042,
     "end_time": "2025-01-12T23:08:59.674203",
     "exception": false,
     "start_time": "2025-01-12T23:08:59.204161",
     "status": "completed"
    },
    "tags": []
   },
   "outputs": [],
   "source": [
    "device = torch.device('cuda' if torch.cuda.is_available() else 'cpu')"
   ]
  },
  {
   "cell_type": "code",
   "execution_count": 30,
   "id": "e2a527b4",
   "metadata": {
    "execution": {
     "iopub.execute_input": "2025-01-12T23:08:59.684117Z",
     "iopub.status.busy": "2025-01-12T23:08:59.683987Z",
     "iopub.status.idle": "2025-01-12T23:08:59.687126Z",
     "shell.execute_reply": "2025-01-12T23:08:59.686777Z"
    },
    "papermill": {
     "duration": 0.008524,
     "end_time": "2025-01-12T23:08:59.687732",
     "exception": false,
     "start_time": "2025-01-12T23:08:59.679208",
     "status": "completed"
    },
    "tags": []
   },
   "outputs": [
    {
     "data": {
      "text/plain": [
       "device(type='cuda')"
      ]
     },
     "execution_count": 30,
     "metadata": {},
     "output_type": "execute_result"
    }
   ],
   "source": [
    "device"
   ]
  },
  {
   "cell_type": "code",
   "execution_count": 31,
   "id": "5154ad11",
   "metadata": {
    "execution": {
     "iopub.execute_input": "2025-01-12T23:08:59.697477Z",
     "iopub.status.busy": "2025-01-12T23:08:59.697180Z",
     "iopub.status.idle": "2025-01-12T23:08:59.700232Z",
     "shell.execute_reply": "2025-01-12T23:08:59.699885Z"
    },
    "papermill": {
     "duration": 0.008415,
     "end_time": "2025-01-12T23:08:59.700826",
     "exception": false,
     "start_time": "2025-01-12T23:08:59.692411",
     "status": "completed"
    },
    "tags": []
   },
   "outputs": [],
   "source": [
    "hyperbolic_model= HyperbolicEmbeddingLayer(embed_dim=128)"
   ]
  },
  {
   "cell_type": "code",
   "execution_count": 32,
   "id": "c3fdf2b1",
   "metadata": {
    "execution": {
     "iopub.execute_input": "2025-01-12T23:08:59.710501Z",
     "iopub.status.busy": "2025-01-12T23:08:59.710215Z",
     "iopub.status.idle": "2025-01-12T23:09:01.258125Z",
     "shell.execute_reply": "2025-01-12T23:09:01.257596Z"
    },
    "papermill": {
     "duration": 1.553531,
     "end_time": "2025-01-12T23:09:01.258963",
     "exception": false,
     "start_time": "2025-01-12T23:08:59.705432",
     "status": "completed"
    },
    "tags": []
   },
   "outputs": [],
   "source": [
    "lora_model = lora_model.to(device)"
   ]
  },
  {
   "cell_type": "code",
   "execution_count": 33,
   "id": "2a39aa4f",
   "metadata": {
    "execution": {
     "iopub.execute_input": "2025-01-12T23:09:01.269585Z",
     "iopub.status.busy": "2025-01-12T23:09:01.269322Z",
     "iopub.status.idle": "2025-01-12T23:09:01.271945Z",
     "shell.execute_reply": "2025-01-12T23:09:01.271573Z"
    },
    "papermill": {
     "duration": 0.008336,
     "end_time": "2025-01-12T23:09:01.272554",
     "exception": false,
     "start_time": "2025-01-12T23:09:01.264218",
     "status": "completed"
    },
    "tags": []
   },
   "outputs": [],
   "source": [
    "hyperbolic_model = hyperbolic_model.to(device)"
   ]
  },
  {
   "cell_type": "code",
   "execution_count": 34,
   "id": "98eade32",
   "metadata": {
    "execution": {
     "iopub.execute_input": "2025-01-12T23:09:01.282469Z",
     "iopub.status.busy": "2025-01-12T23:09:01.282259Z",
     "iopub.status.idle": "2025-01-12T23:09:04.559204Z",
     "shell.execute_reply": "2025-01-12T23:09:04.558814Z"
    },
    "papermill": {
     "duration": 3.282561,
     "end_time": "2025-01-12T23:09:04.559908",
     "exception": false,
     "start_time": "2025-01-12T23:09:01.277347",
     "status": "completed"
    },
    "tags": []
   },
   "outputs": [],
   "source": [
    "dataset_val = load_dataset('ms_marco', 'v1.1', split='validation')"
   ]
  },
  {
   "cell_type": "code",
   "execution_count": 35,
   "id": "3c53afa5",
   "metadata": {
    "execution": {
     "iopub.execute_input": "2025-01-12T23:09:04.572343Z",
     "iopub.status.busy": "2025-01-12T23:09:04.571988Z",
     "iopub.status.idle": "2025-01-12T23:09:04.719926Z",
     "shell.execute_reply": "2025-01-12T23:09:04.719514Z"
    },
    "papermill": {
     "duration": 0.153833,
     "end_time": "2025-01-12T23:09:04.720710",
     "exception": false,
     "start_time": "2025-01-12T23:09:04.566877",
     "status": "completed"
    },
    "tags": []
   },
   "outputs": [],
   "source": [
    "processed_data_val = dataset_val.map(preprocess, remove_columns=dataset_val.column_names)"
   ]
  },
  {
   "cell_type": "code",
   "execution_count": 36,
   "id": "376852e8",
   "metadata": {
    "execution": {
     "iopub.execute_input": "2025-01-12T23:09:04.731078Z",
     "iopub.status.busy": "2025-01-12T23:09:04.730784Z",
     "iopub.status.idle": "2025-01-12T23:09:04.793921Z",
     "shell.execute_reply": "2025-01-12T23:09:04.793548Z"
    },
    "papermill": {
     "duration": 0.068823,
     "end_time": "2025-01-12T23:09:04.794609",
     "exception": false,
     "start_time": "2025-01-12T23:09:04.725786",
     "status": "completed"
    },
    "tags": []
   },
   "outputs": [],
   "source": [
    "processed_data_val = processed_data_val.filter(lambda x: x['query'] is not None and x['positive'] is not None)"
   ]
  },
  {
   "cell_type": "code",
   "execution_count": 37,
   "id": "30788202",
   "metadata": {
    "execution": {
     "iopub.execute_input": "2025-01-12T23:09:04.804623Z",
     "iopub.status.busy": "2025-01-12T23:09:04.804492Z",
     "iopub.status.idle": "2025-01-12T23:09:05.526466Z",
     "shell.execute_reply": "2025-01-12T23:09:05.526005Z"
    },
    "papermill": {
     "duration": 0.7278,
     "end_time": "2025-01-12T23:09:05.527330",
     "exception": false,
     "start_time": "2025-01-12T23:09:04.799530",
     "status": "completed"
    },
    "tags": []
   },
   "outputs": [],
   "source": [
    "contrastive_pairs_val = []\n",
    "for item in processed_data_val:\n",
    "    query = item[\"query\"]\n",
    "    positive = item[\"positive\"]\n",
    "    negatives = item[\"negatives\"]\n",
    "    contrastive_pairs_val.append({\n",
    "        \"anchor\": query,\n",
    "        \"positive\": positive,\n",
    "        \"negatives\": negatives\n",
    "    })"
   ]
  },
  {
   "cell_type": "code",
   "execution_count": 38,
   "id": "bce529f0",
   "metadata": {
    "execution": {
     "iopub.execute_input": "2025-01-12T23:09:05.538127Z",
     "iopub.status.busy": "2025-01-12T23:09:05.537754Z",
     "iopub.status.idle": "2025-01-12T23:09:05.540163Z",
     "shell.execute_reply": "2025-01-12T23:09:05.539797Z"
    },
    "papermill": {
     "duration": 0.008074,
     "end_time": "2025-01-12T23:09:05.540749",
     "exception": false,
     "start_time": "2025-01-12T23:09:05.532675",
     "status": "completed"
    },
    "tags": []
   },
   "outputs": [],
   "source": [
    "contrastive_dataset_val = ContrastiveDataset(contrastive_pairs_val)"
   ]
  },
  {
   "cell_type": "code",
   "execution_count": 39,
   "id": "1abe94b3",
   "metadata": {
    "execution": {
     "iopub.execute_input": "2025-01-12T23:09:05.551227Z",
     "iopub.status.busy": "2025-01-12T23:09:05.550850Z",
     "iopub.status.idle": "2025-01-12T23:09:05.634193Z",
     "shell.execute_reply": "2025-01-12T23:09:05.633511Z"
    },
    "papermill": {
     "duration": 0.08936,
     "end_time": "2025-01-12T23:09:05.635015",
     "exception": false,
     "start_time": "2025-01-12T23:09:05.545655",
     "status": "completed"
    },
    "tags": []
   },
   "outputs": [],
   "source": [
    "data_loader_val = DataLoader(contrastive_dataset_val, batch_size=32, shuffle=True)"
   ]
  },
  {
   "cell_type": "code",
   "execution_count": 40,
   "id": "97018a45",
   "metadata": {
    "execution": {
     "iopub.execute_input": "2025-01-12T23:09:05.645972Z",
     "iopub.status.busy": "2025-01-12T23:09:05.645841Z",
     "iopub.status.idle": "2025-01-12T23:09:05.651065Z",
     "shell.execute_reply": "2025-01-12T23:09:05.650673Z"
    },
    "papermill": {
     "duration": 0.011229,
     "end_time": "2025-01-12T23:09:05.651631",
     "exception": false,
     "start_time": "2025-01-12T23:09:05.640402",
     "status": "completed"
    },
    "tags": []
   },
   "outputs": [],
   "source": [
    "def evaluate_mrr(model1, model2, data_loader_val, distance_fn):\n",
    "    model1.eval()  # Set the model to evaluation mode\n",
    "    model2.eval()\n",
    "    \n",
    "    total_rr = 0.0\n",
    "    num_queries = 0\n",
    "\n",
    "    with torch.no_grad():  # Disable gradient calculations\n",
    "        for batch in data_loader_val:\n",
    "            anchor_text = batch[0]\n",
    "            positive_text = batch[1]\n",
    "            negative_texts = batch[2]\n",
    "\n",
    "            # Tokenize inputs\n",
    "            anchor_input = tokenizer(anchor_text, return_tensors='pt', padding=True, truncation=True, max_length=512).to(device)\n",
    "            positive_input = tokenizer(positive_text, return_tensors='pt', padding=True, truncation=True, max_length=512).to(device)\n",
    "\n",
    "            # Get embeddings for anchor (query), positive, and negative texts\n",
    "            anchor_embedding = model2(model1(**anchor_input).last_hidden_state[:, 0, :])\n",
    "            positive_embedding = model2(model1(**positive_input).last_hidden_state[:, 0, :])\n",
    "            negative_embedding = [model2(model1(**tokenizer(neg, return_tensors='pt', padding=True, truncation=True, max_length=512).to(device)).last_hidden_state[:, 0, :]) for neg in negative_texts]\n",
    "\n",
    "            # Calculate cosine similarities between anchor and all negative examples, and positive example\n",
    "            pos_dist = distance_fn(anchor_embedding, positive_embedding)\n",
    "            neg_dist = torch.stack([distance_fn(anchor_embedding, neg) for neg in negative_embedding], dim=-1)\n",
    "            all_similarities=torch.cat([-pos_dist.unsqueeze(1), -neg_dist], dim=1)\n",
    "\n",
    "            # Rank the similarities for each query (descending order)\n",
    "            sorted_similarities, sorted_indices = torch.sort(all_similarities, dim=1, descending=True)\n",
    "\n",
    "            # Find the rank of the first relevant (positive) document\n",
    "            positive_rank = (sorted_indices == 0).nonzero(as_tuple=True)[1] + 1  # +1 to make rank 1-based\n",
    "            total_rr += torch.sum(1.0 / positive_rank.float()).item()  # Reciprocal rank\n",
    "            num_queries += len(positive_rank)\n",
    "\n",
    "    # Compute the average MRR across all queries\n",
    "    mrr = total_rr / num_queries\n",
    "    return mrr"
   ]
  },
  {
   "cell_type": "code",
   "execution_count": 41,
   "id": "5bc975eb",
   "metadata": {
    "execution": {
     "iopub.execute_input": "2025-01-12T23:09:05.661884Z",
     "iopub.status.busy": "2025-01-12T23:09:05.661764Z",
     "iopub.status.idle": "2025-01-12T23:09:05.664559Z",
     "shell.execute_reply": "2025-01-12T23:09:05.664172Z"
    },
    "papermill": {
     "duration": 0.008738,
     "end_time": "2025-01-12T23:09:05.665153",
     "exception": false,
     "start_time": "2025-01-12T23:09:05.656415",
     "status": "completed"
    },
    "tags": []
   },
   "outputs": [],
   "source": [
    "import os\n",
    "save_dir =\"/dss/dsshome1/07/ra65bex2/srawat\"\n",
    "import time\n",
    "epoch_metrics = []"
   ]
  },
  {
   "cell_type": "code",
   "execution_count": 42,
   "id": "a0cd3d7d",
   "metadata": {
    "execution": {
     "iopub.execute_input": "2025-01-12T23:09:05.675172Z",
     "iopub.status.busy": "2025-01-12T23:09:05.674979Z",
     "iopub.status.idle": "2025-01-13T00:50:04.184167Z",
     "shell.execute_reply": "2025-01-13T00:50:04.183513Z"
    },
    "papermill": {
     "duration": 6058.522111,
     "end_time": "2025-01-13T00:50:04.192076",
     "exception": false,
     "start_time": "2025-01-12T23:09:05.669965",
     "status": "completed"
    },
    "tags": []
   },
   "outputs": [
    {
     "name": "stdout",
     "output_type": "stream",
     "text": [
      "EPOCH 1:\n",
      "Checkpoint saved: /dss/dsshome1/07/ra65bex2/srawat\n",
      "Epoch 1/3, Loss: 2.5513866840002364\n",
      "Epoch 1/3, Contrastive Loss: 1.7933077945729694\n",
      "Epoch 1/3, Entailment Loss: 1.5161577789056966\n"
     ]
    },
    {
     "name": "stdout",
     "output_type": "stream",
     "text": [
      "Mean Reciprocal Rank (MRR) for validation set: 0.4372\n",
      "Epoch 1 took 33.7037 minutes.\n",
      "\n",
      "\n"
     ]
    },
    {
     "name": "stdout",
     "output_type": "stream",
     "text": [
      "EPOCH 2:\n",
      "Checkpoint saved: /dss/dsshome1/07/ra65bex2/srawat\n",
      "Epoch 2/3, Loss: 2.511274047880214\n",
      "Epoch 2/3, Contrastive Loss: 1.7917487104051615\n",
      "Epoch 2/3, Entailment Loss: 1.4390506758198718\n"
     ]
    },
    {
     "name": "stdout",
     "output_type": "stream",
     "text": [
      "Mean Reciprocal Rank (MRR) for validation set: 0.4231\n",
      "Epoch 2 took 33.6414 minutes.\n",
      "\n",
      "\n"
     ]
    },
    {
     "name": "stdout",
     "output_type": "stream",
     "text": [
      "EPOCH 3:\n",
      "Checkpoint saved: /dss/dsshome1/07/ra65bex2/srawat\n",
      "Epoch 3/3, Loss: 2.505980105666132\n",
      "Epoch 3/3, Contrastive Loss: 1.7917371691552355\n",
      "Epoch 3/3, Entailment Loss: 1.4284858743008626\n"
     ]
    },
    {
     "name": "stdout",
     "output_type": "stream",
     "text": [
      "Mean Reciprocal Rank (MRR) for validation set: 0.4268\n",
      "Epoch 3 took 33.6299 minutes.\n",
      "\n",
      "\n"
     ]
    }
   ],
   "source": [
    "for epoch in range(num_epochs):\n",
    "    start_time = time.time()\n",
    "    lora_model.train()  # Set the model to training mode\n",
    "    hyperbolic_model.train()\n",
    "\n",
    "    total_loss = 0.0\n",
    "    entailment_loss_total=0.0\n",
    "    contrastive_loss_total=0.0\n",
    "    for batch in data_loader_train:\n",
    "        # Extract the anchor, positive, and negative pairs from the batch\n",
    "        anchor_texts = batch[0]\n",
    "        positive_texts = batch[1]\n",
    "        negative_texts = batch[2]\n",
    "        # Tokenize the text pairs and move them to the GPU\n",
    "        anchor_inputs = tokenizer(anchor_texts, return_tensors='pt', padding=True, truncation=True, max_length=512).to(device)\n",
    "        positive_inputs = tokenizer(positive_texts, return_tensors='pt', padding=True, truncation=True, max_length=512).to(device)\n",
    "\n",
    "        # Get embeddings (CLS token representation) from BERT for each input\n",
    "    \n",
    "        anchor_embedding = hyperbolic_model(lora_model(**anchor_inputs).last_hidden_state[:, 0, :])\n",
    "        positive_embedding = hyperbolic_model(lora_model(**positive_inputs).last_hidden_state[:, 0, :])\n",
    "        negative_embedding = [hyperbolic_model(lora_model(**tokenizer(neg, return_tensors='pt', padding=True, truncation=True, max_length=512).to(device)).last_hidden_state[:, 0, :]) for neg in negative_texts]\n",
    "\n",
    "        # Compute the InfoNCE loss\n",
    "        contrastive_loss_value = info_nce_loss(anchor_embedding, positive_embedding, negative_embedding, distance_fn=lorentzian_distance)\n",
    "        \n",
    "        # Compute the entailment loss\n",
    "        entailment_loss_value = entailment_loss(anchor_embedding, positive_embedding)\n",
    "        \n",
    "        loss = contrastive_loss_value + 0.5*entailment_loss_value\n",
    "\n",
    "        # Backpropagation  \n",
    "        optimizer.zero_grad()  # Clear previous gradients\n",
    "        loss.backward()  # Compute gradients\n",
    "        optimizer.step()  # Update model parameters\n",
    "        \n",
    "        total_loss += loss.item()\n",
    "        entailment_loss_total+=entailment_loss_value.item()\n",
    "        contrastive_loss_total+=contrastive_loss_value.item()\n",
    "    save_path1 = os.path.join(save_dir, f\"0.5hyperbolic_lora_checkpoint_epoch_{epoch+1}.pth\")\n",
    "    save_path2 = os.path.join(save_dir, f\"0.5hyperbolic_checkpoint_epoch_{epoch+1}.pth\")\n",
    "    torch.save(lora_model, save_path1)\n",
    "    torch.save(hyperbolic_model, save_path2)\n",
    "    print(f\"EPOCH {epoch+1}:\")\n",
    "    print(f\"Checkpoint saved: {save_dir}\")\n",
    "    print(f\"Epoch {epoch+1}/{num_epochs}, Loss: {total_loss / len(data_loader_train)}\")\n",
    "    print(f\"Epoch {epoch+1}/{num_epochs}, Contrastive Loss: {contrastive_loss_total / len(data_loader_train)}\")\n",
    "    print(f\"Epoch {epoch+1}/{num_epochs}, Entailment Loss: {entailment_loss_total / len(data_loader_train)}\")\n",
    "    mrr_validation = evaluate_mrr(model1=lora_model, model2=hyperbolic_model, data_loader_val=data_loader_val,distance_fn=lorentzian_distance)\n",
    "    #mrr_train = evaluate_mrr(lora_model, data_loader_train, lorentzian_distance)\n",
    "    #print(f\"Mean Reciprocal Rank (MRR) for training set: {mrr_train:.4f}\")\n",
    "    print(f\"Mean Reciprocal Rank (MRR) for validation set: {mrr_validation:.4f}\")\n",
    "    end_time = time.time()\n",
    "    print(f\"Epoch {epoch+1} took {(end_time - start_time) / 60:.4f} minutes.\")\n",
    "    print(f\"\\n\")\n",
    "    epoch_metrics.append({\n",
    "        'epoch': epoch + 1,\n",
    "        'training_loss': total_loss / len(data_loader_train),\n",
    "        'Contrastive_loss': contrastive_loss_total / len(data_loader_train),\n",
    "        'Entailment_loss': entailment_loss_total / len(data_loader_train),\n",
    "        'mrr_validation': mrr_validation,\n",
    "        'time_taken_minutes': (end_time - start_time) / 60\n",
    "    })"
   ]
  },
  {
   "cell_type": "code",
   "execution_count": 43,
   "id": "b7059134",
   "metadata": {
    "execution": {
     "iopub.execute_input": "2025-01-13T00:50:04.205765Z",
     "iopub.status.busy": "2025-01-13T00:50:04.205518Z",
     "iopub.status.idle": "2025-01-13T00:50:04.209217Z",
     "shell.execute_reply": "2025-01-13T00:50:04.208789Z"
    },
    "papermill": {
     "duration": 0.01009,
     "end_time": "2025-01-13T00:50:04.209853",
     "exception": false,
     "start_time": "2025-01-13T00:50:04.199763",
     "status": "completed"
    },
    "tags": []
   },
   "outputs": [],
   "source": [
    "import json\n",
    "with open(save_dir + '/0.5hyperbolic_epoch_metrics.json', 'w') as f:\n",
    "    json.dump(epoch_metrics, f)"
   ]
  },
  {
   "cell_type": "code",
   "execution_count": null,
   "id": "41aa7532",
   "metadata": {
    "papermill": {
     "duration": 0.005045,
     "end_time": "2025-01-13T00:50:04.219991",
     "exception": false,
     "start_time": "2025-01-13T00:50:04.214946",
     "status": "completed"
    },
    "tags": []
   },
   "outputs": [],
   "source": []
  }
 ],
 "metadata": {
  "kernelspec": {
   "display_name": "Python (myenv)",
   "language": "python",
   "name": "myenv"
  },
  "language_info": {
   "codemirror_mode": {
    "name": "ipython",
    "version": 3
   },
   "file_extension": ".py",
   "mimetype": "text/x-python",
   "name": "python",
   "nbconvert_exporter": "python",
   "pygments_lexer": "ipython3",
   "version": "3.12.7"
  },
  "papermill": {
   "default_parameters": {},
   "duration": 6124.067844,
   "end_time": "2025-01-13T00:50:08.363403",
   "environment_variables": {},
   "exception": null,
   "input_path": "0.5app_hyperbolic.ipynb",
   "output_path": "0.5app_hyperbolic_output.ipynb",
   "parameters": {},
   "start_time": "2025-01-12T23:08:04.295559",
   "version": "2.6.0"
  }
 },
 "nbformat": 4,
 "nbformat_minor": 5
}