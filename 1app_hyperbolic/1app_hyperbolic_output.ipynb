{
 "cells": [
  {
   "cell_type": "code",
   "execution_count": 1,
   "id": "e36f38d5",
   "metadata": {
    "execution": {
     "iopub.execute_input": "2025-01-12T23:08:11.139999Z",
     "iopub.status.busy": "2025-01-12T23:08:11.139838Z",
     "iopub.status.idle": "2025-01-12T23:08:14.245295Z",
     "shell.execute_reply": "2025-01-12T23:08:14.244911Z"
    },
    "papermill": {
     "duration": 3.111563,
     "end_time": "2025-01-12T23:08:14.246213",
     "exception": false,
     "start_time": "2025-01-12T23:08:11.134650",
     "status": "completed"
    },
    "tags": []
   },
   "outputs": [],
   "source": [
    "from datasets import load_dataset"
   ]
  },
  {
   "cell_type": "code",
   "execution_count": 2,
   "id": "7b2a5436",
   "metadata": {
    "execution": {
     "iopub.execute_input": "2025-01-12T23:08:14.256603Z",
     "iopub.status.busy": "2025-01-12T23:08:14.256387Z",
     "iopub.status.idle": "2025-01-12T23:08:19.516907Z",
     "shell.execute_reply": "2025-01-12T23:08:19.516519Z"
    },
    "papermill": {
     "duration": 5.265444,
     "end_time": "2025-01-12T23:08:19.517766",
     "exception": false,
     "start_time": "2025-01-12T23:08:14.252322",
     "status": "completed"
    },
    "tags": []
   },
   "outputs": [],
   "source": [
    "dataset = load_dataset('ms_marco', 'v1.1')"
   ]
  },
  {
   "cell_type": "code",
   "execution_count": 3,
   "id": "785580d7",
   "metadata": {
    "execution": {
     "iopub.execute_input": "2025-01-12T23:08:19.529036Z",
     "iopub.status.busy": "2025-01-12T23:08:19.528789Z",
     "iopub.status.idle": "2025-01-12T23:08:19.533232Z",
     "shell.execute_reply": "2025-01-12T23:08:19.532878Z"
    },
    "papermill": {
     "duration": 0.010276,
     "end_time": "2025-01-12T23:08:19.534721",
     "exception": false,
     "start_time": "2025-01-12T23:08:19.524445",
     "status": "completed"
    },
    "tags": []
   },
   "outputs": [
    {
     "data": {
      "text/plain": [
       "DatasetDict({\n",
       "    validation: Dataset({\n",
       "        features: ['answers', 'passages', 'query', 'query_id', 'query_type', 'wellFormedAnswers'],\n",
       "        num_rows: 10047\n",
       "    })\n",
       "    train: Dataset({\n",
       "        features: ['answers', 'passages', 'query', 'query_id', 'query_type', 'wellFormedAnswers'],\n",
       "        num_rows: 82326\n",
       "    })\n",
       "    test: Dataset({\n",
       "        features: ['answers', 'passages', 'query', 'query_id', 'query_type', 'wellFormedAnswers'],\n",
       "        num_rows: 9650\n",
       "    })\n",
       "})"
      ]
     },
     "execution_count": 3,
     "metadata": {},
     "output_type": "execute_result"
    }
   ],
   "source": [
    "dataset"
   ]
  },
  {
   "cell_type": "code",
   "execution_count": 4,
   "id": "f6184809",
   "metadata": {
    "execution": {
     "iopub.execute_input": "2025-01-12T23:08:19.543348Z",
     "iopub.status.busy": "2025-01-12T23:08:19.543114Z",
     "iopub.status.idle": "2025-01-12T23:08:22.545862Z",
     "shell.execute_reply": "2025-01-12T23:08:22.545504Z"
    },
    "papermill": {
     "duration": 3.007692,
     "end_time": "2025-01-12T23:08:22.546693",
     "exception": false,
     "start_time": "2025-01-12T23:08:19.539001",
     "status": "completed"
    },
    "tags": []
   },
   "outputs": [],
   "source": [
    "dataset_train = load_dataset('ms_marco', 'v1.1', split='train')"
   ]
  },
  {
   "cell_type": "code",
   "execution_count": 5,
   "id": "8bb7e472",
   "metadata": {
    "execution": {
     "iopub.execute_input": "2025-01-12T23:08:22.557506Z",
     "iopub.status.busy": "2025-01-12T23:08:22.557112Z",
     "iopub.status.idle": "2025-01-12T23:08:22.560118Z",
     "shell.execute_reply": "2025-01-12T23:08:22.559778Z"
    },
    "papermill": {
     "duration": 0.007787,
     "end_time": "2025-01-12T23:08:22.560750",
     "exception": false,
     "start_time": "2025-01-12T23:08:22.552963",
     "status": "completed"
    },
    "tags": []
   },
   "outputs": [
    {
     "data": {
      "text/plain": [
       "Dataset({\n",
       "    features: ['answers', 'passages', 'query', 'query_id', 'query_type', 'wellFormedAnswers'],\n",
       "    num_rows: 82326\n",
       "})"
      ]
     },
     "execution_count": 5,
     "metadata": {},
     "output_type": "execute_result"
    }
   ],
   "source": [
    "dataset_train"
   ]
  },
  {
   "cell_type": "code",
   "execution_count": 6,
   "id": "e4ce188b",
   "metadata": {
    "execution": {
     "iopub.execute_input": "2025-01-12T23:08:22.569057Z",
     "iopub.status.busy": "2025-01-12T23:08:22.568829Z",
     "iopub.status.idle": "2025-01-12T23:08:22.574750Z",
     "shell.execute_reply": "2025-01-12T23:08:22.574437Z"
    },
    "papermill": {
     "duration": 0.010765,
     "end_time": "2025-01-12T23:08:22.575392",
     "exception": false,
     "start_time": "2025-01-12T23:08:22.564627",
     "status": "completed"
    },
    "tags": []
   },
   "outputs": [],
   "source": [
    "def preprocess(example):\n",
    "    positive_passages=[]\n",
    "    for p in enumerate(example['passages'][\"is_selected\"]):\n",
    "        if p[1]==1:\n",
    "            positive_passages.append(example[\"passages\"][\"passage_text\"][p[0]])\n",
    "    negative_passages = []\n",
    "    for p in enumerate(example['passages'][\"is_selected\"]):\n",
    "        if p[1]==0:\n",
    "            negative_passages.append(example[\"passages\"][\"passage_text\"][p[0]])\n",
    "    if (len(positive_passages)>0 and len(negative_passages)>=5):\n",
    "        positive = positive_passages[0]\n",
    "        negatives = negative_passages[:5]\n",
    "        return {\n",
    "            \"query\": example[\"query\"],\n",
    "            \"positive\": positive,\n",
    "            \"negatives\": negatives\n",
    "        }\n",
    "    else:\n",
    "        return {\"query\": None, \"positive\": None, \"negatives\": None}"
   ]
  },
  {
   "cell_type": "code",
   "execution_count": 7,
   "id": "0b5822ec",
   "metadata": {
    "execution": {
     "iopub.execute_input": "2025-01-12T23:08:22.583634Z",
     "iopub.status.busy": "2025-01-12T23:08:22.583499Z",
     "iopub.status.idle": "2025-01-12T23:08:22.950645Z",
     "shell.execute_reply": "2025-01-12T23:08:22.950269Z"
    },
    "papermill": {
     "duration": 0.372247,
     "end_time": "2025-01-12T23:08:22.951538",
     "exception": false,
     "start_time": "2025-01-12T23:08:22.579291",
     "status": "completed"
    },
    "tags": []
   },
   "outputs": [],
   "source": [
    "processed_data_train = dataset_train.map(preprocess, remove_columns=dataset_train.column_names)"
   ]
  },
  {
   "cell_type": "code",
   "execution_count": 8,
   "id": "b8979ee3",
   "metadata": {
    "execution": {
     "iopub.execute_input": "2025-01-12T23:08:22.960396Z",
     "iopub.status.busy": "2025-01-12T23:08:22.960260Z",
     "iopub.status.idle": "2025-01-12T23:08:22.982155Z",
     "shell.execute_reply": "2025-01-12T23:08:22.981852Z"
    },
    "papermill": {
     "duration": 0.026799,
     "end_time": "2025-01-12T23:08:22.982825",
     "exception": false,
     "start_time": "2025-01-12T23:08:22.956026",
     "status": "completed"
    },
    "tags": []
   },
   "outputs": [],
   "source": [
    "processed_data_train = processed_data_train.filter(lambda x: x['query'] is not None and x['positive'] is not None)"
   ]
  },
  {
   "cell_type": "code",
   "execution_count": 9,
   "id": "87492491",
   "metadata": {
    "execution": {
     "iopub.execute_input": "2025-01-12T23:08:22.991244Z",
     "iopub.status.busy": "2025-01-12T23:08:22.991112Z",
     "iopub.status.idle": "2025-01-12T23:08:28.867579Z",
     "shell.execute_reply": "2025-01-12T23:08:28.867158Z"
    },
    "papermill": {
     "duration": 5.881666,
     "end_time": "2025-01-12T23:08:28.868509",
     "exception": false,
     "start_time": "2025-01-12T23:08:22.986843",
     "status": "completed"
    },
    "tags": []
   },
   "outputs": [],
   "source": [
    "contrastive_pairs_train = []\n",
    "for item in processed_data_train:\n",
    "    query = item[\"query\"]\n",
    "    positive = item[\"positive\"]\n",
    "    negatives = item[\"negatives\"]\n",
    "    contrastive_pairs_train.append({\n",
    "        \"anchor\": query,\n",
    "        \"positive\": positive,\n",
    "        \"negatives\": negatives\n",
    "    })"
   ]
  },
  {
   "cell_type": "code",
   "execution_count": 10,
   "id": "f4d2f848",
   "metadata": {
    "execution": {
     "iopub.execute_input": "2025-01-12T23:08:28.879510Z",
     "iopub.status.busy": "2025-01-12T23:08:28.879238Z",
     "iopub.status.idle": "2025-01-12T23:08:28.882203Z",
     "shell.execute_reply": "2025-01-12T23:08:28.881888Z"
    },
    "papermill": {
     "duration": 0.007987,
     "end_time": "2025-01-12T23:08:28.882843",
     "exception": false,
     "start_time": "2025-01-12T23:08:28.874856",
     "status": "completed"
    },
    "tags": []
   },
   "outputs": [
    {
     "data": {
      "text/plain": [
       "74538"
      ]
     },
     "execution_count": 10,
     "metadata": {},
     "output_type": "execute_result"
    }
   ],
   "source": [
    "len(contrastive_pairs_train)"
   ]
  },
  {
   "cell_type": "code",
   "execution_count": 11,
   "id": "7e0bd7b8",
   "metadata": {
    "execution": {
     "iopub.execute_input": "2025-01-12T23:08:28.891318Z",
     "iopub.status.busy": "2025-01-12T23:08:28.891183Z",
     "iopub.status.idle": "2025-01-12T23:08:40.532724Z",
     "shell.execute_reply": "2025-01-12T23:08:40.532169Z"
    },
    "papermill": {
     "duration": 11.646756,
     "end_time": "2025-01-12T23:08:40.533678",
     "exception": false,
     "start_time": "2025-01-12T23:08:28.886922",
     "status": "completed"
    },
    "tags": []
   },
   "outputs": [],
   "source": [
    "from torch.utils.data import DataLoader"
   ]
  },
  {
   "cell_type": "code",
   "execution_count": 12,
   "id": "d042a1a4",
   "metadata": {
    "execution": {
     "iopub.execute_input": "2025-01-12T23:08:40.544985Z",
     "iopub.status.busy": "2025-01-12T23:08:40.544780Z",
     "iopub.status.idle": "2025-01-12T23:08:40.547788Z",
     "shell.execute_reply": "2025-01-12T23:08:40.547488Z"
    },
    "papermill": {
     "duration": 0.008292,
     "end_time": "2025-01-12T23:08:40.548425",
     "exception": false,
     "start_time": "2025-01-12T23:08:40.540133",
     "status": "completed"
    },
    "tags": []
   },
   "outputs": [],
   "source": [
    "class ContrastiveDataset:\n",
    "    def __init__(self, pairs):\n",
    "        self.pairs = pairs\n",
    "\n",
    "    def __len__(self):\n",
    "        return len(self.pairs)\n",
    "\n",
    "    def __getitem__(self, idx):\n",
    "        item = self.pairs[idx]\n",
    "        return item[\"anchor\"], item[\"positive\"], item[\"negatives\"]"
   ]
  },
  {
   "cell_type": "code",
   "execution_count": 13,
   "id": "6d5d758b",
   "metadata": {
    "execution": {
     "iopub.execute_input": "2025-01-12T23:08:40.557256Z",
     "iopub.status.busy": "2025-01-12T23:08:40.557125Z",
     "iopub.status.idle": "2025-01-12T23:08:40.562803Z",
     "shell.execute_reply": "2025-01-12T23:08:40.562503Z"
    },
    "papermill": {
     "duration": 0.010699,
     "end_time": "2025-01-12T23:08:40.563421",
     "exception": false,
     "start_time": "2025-01-12T23:08:40.552722",
     "status": "completed"
    },
    "tags": []
   },
   "outputs": [],
   "source": [
    "contrastive_dataset_train = ContrastiveDataset(contrastive_pairs_train)"
   ]
  },
  {
   "cell_type": "code",
   "execution_count": 14,
   "id": "639feb5d",
   "metadata": {
    "execution": {
     "iopub.execute_input": "2025-01-12T23:08:40.572180Z",
     "iopub.status.busy": "2025-01-12T23:08:40.572053Z",
     "iopub.status.idle": "2025-01-12T23:08:40.576161Z",
     "shell.execute_reply": "2025-01-12T23:08:40.575849Z"
    },
    "papermill": {
     "duration": 0.009076,
     "end_time": "2025-01-12T23:08:40.576789",
     "exception": false,
     "start_time": "2025-01-12T23:08:40.567713",
     "status": "completed"
    },
    "tags": []
   },
   "outputs": [],
   "source": [
    "\n",
    "data_loader_train = DataLoader(contrastive_dataset_train, batch_size=32, shuffle=True)"
   ]
  },
  {
   "cell_type": "code",
   "execution_count": 15,
   "id": "fcc36678",
   "metadata": {
    "execution": {
     "iopub.execute_input": "2025-01-12T23:08:40.585727Z",
     "iopub.status.busy": "2025-01-12T23:08:40.585487Z",
     "iopub.status.idle": "2025-01-12T23:08:40.590215Z",
     "shell.execute_reply": "2025-01-12T23:08:40.589929Z"
    },
    "papermill": {
     "duration": 0.009688,
     "end_time": "2025-01-12T23:08:40.590791",
     "exception": false,
     "start_time": "2025-01-12T23:08:40.581103",
     "status": "completed"
    },
    "tags": []
   },
   "outputs": [
    {
     "data": {
      "text/plain": [
       "2330"
      ]
     },
     "execution_count": 15,
     "metadata": {},
     "output_type": "execute_result"
    }
   ],
   "source": [
    "len(data_loader_train)"
   ]
  },
  {
   "cell_type": "code",
   "execution_count": 16,
   "id": "1b58919e",
   "metadata": {
    "execution": {
     "iopub.execute_input": "2025-01-12T23:08:40.599762Z",
     "iopub.status.busy": "2025-01-12T23:08:40.599637Z",
     "iopub.status.idle": "2025-01-12T23:08:53.208139Z",
     "shell.execute_reply": "2025-01-12T23:08:53.207658Z"
    },
    "papermill": {
     "duration": 12.61402,
     "end_time": "2025-01-12T23:08:53.209127",
     "exception": false,
     "start_time": "2025-01-12T23:08:40.595107",
     "status": "completed"
    },
    "tags": []
   },
   "outputs": [],
   "source": [
    "from transformers import AutoTokenizer, AutoModel\n",
    "tokenizer = AutoTokenizer.from_pretrained(\"bert-base-uncased\")"
   ]
  },
  {
   "cell_type": "code",
   "execution_count": 17,
   "id": "d2af8315",
   "metadata": {
    "execution": {
     "iopub.execute_input": "2025-01-12T23:08:53.220936Z",
     "iopub.status.busy": "2025-01-12T23:08:53.220472Z",
     "iopub.status.idle": "2025-01-12T23:08:57.960674Z",
     "shell.execute_reply": "2025-01-12T23:08:57.960275Z"
    },
    "papermill": {
     "duration": 4.745749,
     "end_time": "2025-01-12T23:08:57.961550",
     "exception": false,
     "start_time": "2025-01-12T23:08:53.215801",
     "status": "completed"
    },
    "tags": []
   },
   "outputs": [],
   "source": [
    "model = AutoModel.from_pretrained(\"bert-base-uncased\")"
   ]
  },
  {
   "cell_type": "code",
   "execution_count": 18,
   "id": "3df1c643",
   "metadata": {
    "execution": {
     "iopub.execute_input": "2025-01-12T23:08:57.970948Z",
     "iopub.status.busy": "2025-01-12T23:08:57.970802Z",
     "iopub.status.idle": "2025-01-12T23:08:58.643957Z",
     "shell.execute_reply": "2025-01-12T23:08:58.643561Z"
    },
    "papermill": {
     "duration": 0.678613,
     "end_time": "2025-01-12T23:08:58.644821",
     "exception": false,
     "start_time": "2025-01-12T23:08:57.966208",
     "status": "completed"
    },
    "tags": []
   },
   "outputs": [],
   "source": [
    "from peft import LoraConfig, get_peft_model"
   ]
  },
  {
   "cell_type": "code",
   "execution_count": 19,
   "id": "28c465b1",
   "metadata": {
    "execution": {
     "iopub.execute_input": "2025-01-12T23:08:58.656339Z",
     "iopub.status.busy": "2025-01-12T23:08:58.656194Z",
     "iopub.status.idle": "2025-01-12T23:08:58.658355Z",
     "shell.execute_reply": "2025-01-12T23:08:58.658051Z"
    },
    "papermill": {
     "duration": 0.007555,
     "end_time": "2025-01-12T23:08:58.658913",
     "exception": false,
     "start_time": "2025-01-12T23:08:58.651358",
     "status": "completed"
    },
    "tags": []
   },
   "outputs": [],
   "source": [
    "lora_config = LoraConfig(\n",
    "    task_type= \"FEATURE_EXTRACTION\"  # Sequence-level task (e.g., contrastive learning)\n",
    ")"
   ]
  },
  {
   "cell_type": "code",
   "execution_count": 20,
   "id": "2f7d0b5b",
   "metadata": {
    "execution": {
     "iopub.execute_input": "2025-01-12T23:08:58.668219Z",
     "iopub.status.busy": "2025-01-12T23:08:58.667997Z",
     "iopub.status.idle": "2025-01-12T23:08:58.977347Z",
     "shell.execute_reply": "2025-01-12T23:08:58.976959Z"
    },
    "papermill": {
     "duration": 0.315036,
     "end_time": "2025-01-12T23:08:58.978259",
     "exception": false,
     "start_time": "2025-01-12T23:08:58.663223",
     "status": "completed"
    },
    "tags": []
   },
   "outputs": [],
   "source": [
    "lora_model = get_peft_model(model, lora_config)"
   ]
  },
  {
   "cell_type": "code",
   "execution_count": 21,
   "id": "04751581",
   "metadata": {
    "execution": {
     "iopub.execute_input": "2025-01-12T23:08:58.987833Z",
     "iopub.status.busy": "2025-01-12T23:08:58.987682Z",
     "iopub.status.idle": "2025-01-12T23:08:58.989949Z",
     "shell.execute_reply": "2025-01-12T23:08:58.989579Z"
    },
    "papermill": {
     "duration": 0.007636,
     "end_time": "2025-01-12T23:08:58.990658",
     "exception": false,
     "start_time": "2025-01-12T23:08:58.983022",
     "status": "completed"
    },
    "tags": []
   },
   "outputs": [],
   "source": [
    "import torch\n",
    "import torch.nn as nn\n",
    "import torch.optim as optim"
   ]
  },
  {
   "cell_type": "code",
   "execution_count": 22,
   "id": "83e64dc9",
   "metadata": {
    "execution": {
     "iopub.execute_input": "2025-01-12T23:08:59.000368Z",
     "iopub.status.busy": "2025-01-12T23:08:59.000226Z",
     "iopub.status.idle": "2025-01-12T23:08:59.004345Z",
     "shell.execute_reply": "2025-01-12T23:08:59.003917Z"
    },
    "papermill": {
     "duration": 0.009543,
     "end_time": "2025-01-12T23:08:59.004984",
     "exception": false,
     "start_time": "2025-01-12T23:08:58.995441",
     "status": "completed"
    },
    "tags": []
   },
   "outputs": [],
   "source": [
    "class HyperbolicEmbeddingLayer(nn.Module):\n",
    "    def __init__(self, embed_dim):\n",
    "        super(HyperbolicEmbeddingLayer, self).__init__()\n",
    "        self.embed_dim = embed_dim\n",
    "        self.fc = nn.Linear(768, embed_dim)  # Assuming 768-D input from BERT\n",
    "\n",
    "    def forward(self, x):\n",
    "        embedding = self.fc(x)\n",
    "        return embedding / torch.norm(embedding, dim=-1, keepdim=True)"
   ]
  },
  {
   "cell_type": "code",
   "execution_count": 23,
   "id": "43ba5fdf",
   "metadata": {
    "execution": {
     "iopub.execute_input": "2025-01-12T23:08:59.014568Z",
     "iopub.status.busy": "2025-01-12T23:08:59.014429Z",
     "iopub.status.idle": "2025-01-12T23:08:59.017814Z",
     "shell.execute_reply": "2025-01-12T23:08:59.017397Z"
    },
    "papermill": {
     "duration": 0.008723,
     "end_time": "2025-01-12T23:08:59.018482",
     "exception": false,
     "start_time": "2025-01-12T23:08:59.009759",
     "status": "completed"
    },
    "tags": []
   },
   "outputs": [],
   "source": [
    "def lorentzian_distance(x, y):\n",
    "    \n",
    "    # Compute the dot product and the norms of the vectors\n",
    "    dot_product = torch.sum(x * y, dim=-1)\n",
    "    norm_x = torch.norm(x, dim=-1)\n",
    "    norm_y = torch.norm(y, dim=-1)\n",
    "    \n",
    "    # Calculate the Lorentzian distance\n",
    "    distance = torch.acosh(-dot_product + torch.sqrt((1 + norm_x**2) * (1 + norm_y**2)))\n",
    "    return distance"
   ]
  },
  {
   "cell_type": "code",
   "execution_count": 24,
   "id": "bef439c9",
   "metadata": {
    "execution": {
     "iopub.execute_input": "2025-01-12T23:08:59.028279Z",
     "iopub.status.busy": "2025-01-12T23:08:59.028139Z",
     "iopub.status.idle": "2025-01-12T23:08:59.031518Z",
     "shell.execute_reply": "2025-01-12T23:08:59.031121Z"
    },
    "papermill": {
     "duration": 0.00892,
     "end_time": "2025-01-12T23:08:59.032183",
     "exception": false,
     "start_time": "2025-01-12T23:08:59.023263",
     "status": "completed"
    },
    "tags": []
   },
   "outputs": [],
   "source": [
    "def info_nce_loss(anchor_embedding, positive_embedding, negative_embedding, distance_fn):\n",
    "    # Compute distances\n",
    "    pos_dist = distance_fn(anchor_embedding, positive_embedding)  # Anchor-positive\n",
    "    neg_dist = torch.stack([distance_fn(anchor_embedding, neg) for neg in negative_embedding], dim=-1)  # Anchor-negatives\n",
    "    \n",
    "    # Concatenate positive and negative distances\n",
    "    logits = torch.cat([-pos_dist.unsqueeze(1), -neg_dist], dim=1)\n",
    "    labels = torch.zeros(logits.size(0), dtype=torch.long, device=logits.device)  # Positive as class 0\n",
    "\n",
    "    # Compute CrossEntropy loss\n",
    "    loss = torch.nn.CrossEntropyLoss()(logits, labels)\n",
    "    return loss"
   ]
  },
  {
   "cell_type": "code",
   "execution_count": 25,
   "id": "32f636c4",
   "metadata": {
    "execution": {
     "iopub.execute_input": "2025-01-12T23:08:59.042004Z",
     "iopub.status.busy": "2025-01-12T23:08:59.041700Z",
     "iopub.status.idle": "2025-01-12T23:08:59.045284Z",
     "shell.execute_reply": "2025-01-12T23:08:59.044894Z"
    },
    "papermill": {
     "duration": 0.008973,
     "end_time": "2025-01-12T23:08:59.045938",
     "exception": false,
     "start_time": "2025-01-12T23:08:59.036965",
     "status": "completed"
    },
    "tags": []
   },
   "outputs": [],
   "source": [
    "def exterior_angle(x_space, y_space, c):\n",
    "    norm_x_space = torch.norm(x_space, p=2, dim=-1)\n",
    "    norm_y_space = torch.norm(y_space, p=2, dim=-1)\n",
    "    x_time = torch.sqrt(1/c + norm_x_space**2)\n",
    "    y_time = torch.sqrt(1/c + norm_y_space**2)\n",
    "    dot_product = torch.sum(x_space * y_space, dim=-1)\n",
    "    lorentz_inner_product =  dot_product - x_time * y_time\n",
    "    numerator = y_time + x_time * c * lorentz_inner_product\n",
    "    denominator = norm_x_space * torch.sqrt((c * lorentz_inner_product)**2 - 1)\n",
    "    ext_angle = torch.acos(numerator / denominator)\n",
    "    return ext_angle"
   ]
  },
  {
   "cell_type": "code",
   "execution_count": 26,
   "id": "4553383e",
   "metadata": {
    "execution": {
     "iopub.execute_input": "2025-01-12T23:08:59.055989Z",
     "iopub.status.busy": "2025-01-12T23:08:59.055727Z",
     "iopub.status.idle": "2025-01-12T23:08:59.058953Z",
     "shell.execute_reply": "2025-01-12T23:08:59.058557Z"
    },
    "papermill": {
     "duration": 0.008893,
     "end_time": "2025-01-12T23:08:59.059637",
     "exception": false,
     "start_time": "2025-01-12T23:08:59.050744",
     "status": "completed"
    },
    "tags": []
   },
   "outputs": [],
   "source": [
    "def entailment_loss(x, y, c=1, K=0.1):\n",
    "    # Compute half-aperture\n",
    "    aperture = torch.asin(2 * K / (c * torch.norm(x, p=2, dim=-1)))  # Half-aperture formula\n",
    "    \n",
    "    # Compute exterior angle using the provided formula\n",
    "    # Simplified for demonstration; the actual formula needs to handle Poincaré embeddings\n",
    "    ext_angle = exterior_angle(x_space=x,y_space=y,c=c)\n",
    "    \n",
    "    # Compute the loss\n",
    "    loss = torch.max(torch.zeros_like(ext_angle), ext_angle - aperture)\n",
    "    return loss.mean()"
   ]
  },
  {
   "cell_type": "code",
   "execution_count": 27,
   "id": "b00e2b5e",
   "metadata": {
    "execution": {
     "iopub.execute_input": "2025-01-12T23:08:59.069384Z",
     "iopub.status.busy": "2025-01-12T23:08:59.069091Z",
     "iopub.status.idle": "2025-01-12T23:08:59.074080Z",
     "shell.execute_reply": "2025-01-12T23:08:59.073548Z"
    },
    "papermill": {
     "duration": 0.01042,
     "end_time": "2025-01-12T23:08:59.074746",
     "exception": false,
     "start_time": "2025-01-12T23:08:59.064326",
     "status": "completed"
    },
    "tags": []
   },
   "outputs": [],
   "source": [
    "optimizer = torch.optim.AdamW(lora_model.parameters(), lr=5e-5)"
   ]
  },
  {
   "cell_type": "code",
   "execution_count": 28,
   "id": "400d43fe",
   "metadata": {
    "execution": {
     "iopub.execute_input": "2025-01-12T23:08:59.084451Z",
     "iopub.status.busy": "2025-01-12T23:08:59.084313Z",
     "iopub.status.idle": "2025-01-12T23:08:59.087193Z",
     "shell.execute_reply": "2025-01-12T23:08:59.086765Z"
    },
    "papermill": {
     "duration": 0.00847,
     "end_time": "2025-01-12T23:08:59.087910",
     "exception": false,
     "start_time": "2025-01-12T23:08:59.079440",
     "status": "completed"
    },
    "tags": []
   },
   "outputs": [],
   "source": [
    "num_epochs=3"
   ]
  },
  {
   "cell_type": "code",
   "execution_count": 29,
   "id": "2ed935f9",
   "metadata": {
    "execution": {
     "iopub.execute_input": "2025-01-12T23:08:59.097734Z",
     "iopub.status.busy": "2025-01-12T23:08:59.097597Z",
     "iopub.status.idle": "2025-01-12T23:08:59.387180Z",
     "shell.execute_reply": "2025-01-12T23:08:59.386583Z"
    },
    "papermill": {
     "duration": 0.295185,
     "end_time": "2025-01-12T23:08:59.388000",
     "exception": false,
     "start_time": "2025-01-12T23:08:59.092815",
     "status": "completed"
    },
    "tags": []
   },
   "outputs": [],
   "source": [
    "device = torch.device('cuda' if torch.cuda.is_available() else 'cpu')"
   ]
  },
  {
   "cell_type": "code",
   "execution_count": 30,
   "id": "1db7d56e",
   "metadata": {
    "execution": {
     "iopub.execute_input": "2025-01-12T23:08:59.398066Z",
     "iopub.status.busy": "2025-01-12T23:08:59.397908Z",
     "iopub.status.idle": "2025-01-12T23:08:59.401231Z",
     "shell.execute_reply": "2025-01-12T23:08:59.400942Z"
    },
    "papermill": {
     "duration": 0.008822,
     "end_time": "2025-01-12T23:08:59.401839",
     "exception": false,
     "start_time": "2025-01-12T23:08:59.393017",
     "status": "completed"
    },
    "tags": []
   },
   "outputs": [
    {
     "data": {
      "text/plain": [
       "device(type='cuda')"
      ]
     },
     "execution_count": 30,
     "metadata": {},
     "output_type": "execute_result"
    }
   ],
   "source": [
    "device"
   ]
  },
  {
   "cell_type": "code",
   "execution_count": 31,
   "id": "cd5ba9bd",
   "metadata": {
    "execution": {
     "iopub.execute_input": "2025-01-12T23:08:59.411449Z",
     "iopub.status.busy": "2025-01-12T23:08:59.411319Z",
     "iopub.status.idle": "2025-01-12T23:08:59.414698Z",
     "shell.execute_reply": "2025-01-12T23:08:59.414405Z"
    },
    "papermill": {
     "duration": 0.008783,
     "end_time": "2025-01-12T23:08:59.415316",
     "exception": false,
     "start_time": "2025-01-12T23:08:59.406533",
     "status": "completed"
    },
    "tags": []
   },
   "outputs": [],
   "source": [
    "hyperbolic_model= HyperbolicEmbeddingLayer(embed_dim=128)"
   ]
  },
  {
   "cell_type": "code",
   "execution_count": 32,
   "id": "ec6b6d9e",
   "metadata": {
    "execution": {
     "iopub.execute_input": "2025-01-12T23:08:59.425109Z",
     "iopub.status.busy": "2025-01-12T23:08:59.424979Z",
     "iopub.status.idle": "2025-01-12T23:09:01.242333Z",
     "shell.execute_reply": "2025-01-12T23:09:01.241872Z"
    },
    "papermill": {
     "duration": 1.823089,
     "end_time": "2025-01-12T23:09:01.243230",
     "exception": false,
     "start_time": "2025-01-12T23:08:59.420141",
     "status": "completed"
    },
    "tags": []
   },
   "outputs": [],
   "source": [
    "lora_model = lora_model.to(device)"
   ]
  },
  {
   "cell_type": "code",
   "execution_count": 33,
   "id": "1e945ea7",
   "metadata": {
    "execution": {
     "iopub.execute_input": "2025-01-12T23:09:01.253449Z",
     "iopub.status.busy": "2025-01-12T23:09:01.253297Z",
     "iopub.status.idle": "2025-01-12T23:09:01.255808Z",
     "shell.execute_reply": "2025-01-12T23:09:01.255503Z"
    },
    "papermill": {
     "duration": 0.008173,
     "end_time": "2025-01-12T23:09:01.256499",
     "exception": false,
     "start_time": "2025-01-12T23:09:01.248326",
     "status": "completed"
    },
    "tags": []
   },
   "outputs": [],
   "source": [
    "hyperbolic_model = hyperbolic_model.to(device)"
   ]
  },
  {
   "cell_type": "code",
   "execution_count": 34,
   "id": "9ffb07e8",
   "metadata": {
    "execution": {
     "iopub.execute_input": "2025-01-12T23:09:01.266426Z",
     "iopub.status.busy": "2025-01-12T23:09:01.266198Z",
     "iopub.status.idle": "2025-01-12T23:09:04.579452Z",
     "shell.execute_reply": "2025-01-12T23:09:04.579084Z"
    },
    "papermill": {
     "duration": 3.319014,
     "end_time": "2025-01-12T23:09:04.580286",
     "exception": false,
     "start_time": "2025-01-12T23:09:01.261272",
     "status": "completed"
    },
    "tags": []
   },
   "outputs": [],
   "source": [
    "dataset_val = load_dataset('ms_marco', 'v1.1', split='validation')"
   ]
  },
  {
   "cell_type": "code",
   "execution_count": 35,
   "id": "23159347",
   "metadata": {
    "execution": {
     "iopub.execute_input": "2025-01-12T23:09:04.592286Z",
     "iopub.status.busy": "2025-01-12T23:09:04.592145Z",
     "iopub.status.idle": "2025-01-12T23:09:04.719641Z",
     "shell.execute_reply": "2025-01-12T23:09:04.719325Z"
    },
    "papermill": {
     "duration": 0.133354,
     "end_time": "2025-01-12T23:09:04.720327",
     "exception": false,
     "start_time": "2025-01-12T23:09:04.586973",
     "status": "completed"
    },
    "tags": []
   },
   "outputs": [],
   "source": [
    "processed_data_val = dataset_val.map(preprocess, remove_columns=dataset_val.column_names)"
   ]
  },
  {
   "cell_type": "code",
   "execution_count": 36,
   "id": "51546c2f",
   "metadata": {
    "execution": {
     "iopub.execute_input": "2025-01-12T23:09:04.730455Z",
     "iopub.status.busy": "2025-01-12T23:09:04.730218Z",
     "iopub.status.idle": "2025-01-12T23:09:04.793727Z",
     "shell.execute_reply": "2025-01-12T23:09:04.793419Z"
    },
    "papermill": {
     "duration": 0.069126,
     "end_time": "2025-01-12T23:09:04.794366",
     "exception": false,
     "start_time": "2025-01-12T23:09:04.725240",
     "status": "completed"
    },
    "tags": []
   },
   "outputs": [],
   "source": [
    "processed_data_val = processed_data_val.filter(lambda x: x['query'] is not None and x['positive'] is not None)"
   ]
  },
  {
   "cell_type": "code",
   "execution_count": 37,
   "id": "74bec3db",
   "metadata": {
    "execution": {
     "iopub.execute_input": "2025-01-12T23:09:04.804329Z",
     "iopub.status.busy": "2025-01-12T23:09:04.804048Z",
     "iopub.status.idle": "2025-01-12T23:09:05.526497Z",
     "shell.execute_reply": "2025-01-12T23:09:05.526096Z"
    },
    "papermill": {
     "duration": 0.728223,
     "end_time": "2025-01-12T23:09:05.527355",
     "exception": false,
     "start_time": "2025-01-12T23:09:04.799132",
     "status": "completed"
    },
    "tags": []
   },
   "outputs": [],
   "source": [
    "contrastive_pairs_val = []\n",
    "for item in processed_data_val:\n",
    "    query = item[\"query\"]\n",
    "    positive = item[\"positive\"]\n",
    "    negatives = item[\"negatives\"]\n",
    "    contrastive_pairs_val.append({\n",
    "        \"anchor\": query,\n",
    "        \"positive\": positive,\n",
    "        \"negatives\": negatives\n",
    "    })"
   ]
  },
  {
   "cell_type": "code",
   "execution_count": 38,
   "id": "244f340b",
   "metadata": {
    "execution": {
     "iopub.execute_input": "2025-01-12T23:09:05.537983Z",
     "iopub.status.busy": "2025-01-12T23:09:05.537844Z",
     "iopub.status.idle": "2025-01-12T23:09:05.540108Z",
     "shell.execute_reply": "2025-01-12T23:09:05.539768Z"
    },
    "papermill": {
     "duration": 0.00801,
     "end_time": "2025-01-12T23:09:05.540742",
     "exception": false,
     "start_time": "2025-01-12T23:09:05.532732",
     "status": "completed"
    },
    "tags": []
   },
   "outputs": [],
   "source": [
    "contrastive_dataset_val = ContrastiveDataset(contrastive_pairs_val)"
   ]
  },
  {
   "cell_type": "code",
   "execution_count": 39,
   "id": "44302f3f",
   "metadata": {
    "execution": {
     "iopub.execute_input": "2025-01-12T23:09:05.550701Z",
     "iopub.status.busy": "2025-01-12T23:09:05.550474Z",
     "iopub.status.idle": "2025-01-12T23:09:05.554718Z",
     "shell.execute_reply": "2025-01-12T23:09:05.554415Z"
    },
    "papermill": {
     "duration": 0.009874,
     "end_time": "2025-01-12T23:09:05.555369",
     "exception": false,
     "start_time": "2025-01-12T23:09:05.545495",
     "status": "completed"
    },
    "tags": []
   },
   "outputs": [],
   "source": [
    "data_loader_val = DataLoader(contrastive_dataset_val, batch_size=32, shuffle=True)"
   ]
  },
  {
   "cell_type": "code",
   "execution_count": 40,
   "id": "82572d17",
   "metadata": {
    "execution": {
     "iopub.execute_input": "2025-01-12T23:09:05.565399Z",
     "iopub.status.busy": "2025-01-12T23:09:05.565172Z",
     "iopub.status.idle": "2025-01-12T23:09:05.570118Z",
     "shell.execute_reply": "2025-01-12T23:09:05.569792Z"
    },
    "papermill": {
     "duration": 0.010624,
     "end_time": "2025-01-12T23:09:05.570762",
     "exception": false,
     "start_time": "2025-01-12T23:09:05.560138",
     "status": "completed"
    },
    "tags": []
   },
   "outputs": [],
   "source": [
    "def evaluate_mrr(model1, model2, data_loader_val, distance_fn):\n",
    "    model1.eval()  # Set the model to evaluation mode\n",
    "    model2.eval()\n",
    "    \n",
    "    total_rr = 0.0\n",
    "    num_queries = 0\n",
    "\n",
    "    with torch.no_grad():  # Disable gradient calculations\n",
    "        for batch in data_loader_val:\n",
    "            anchor_text = batch[0]\n",
    "            positive_text = batch[1]\n",
    "            negative_texts = batch[2]\n",
    "\n",
    "            # Tokenize inputs\n",
    "            anchor_input = tokenizer(anchor_text, return_tensors='pt', padding=True, truncation=True, max_length=512).to(device)\n",
    "            positive_input = tokenizer(positive_text, return_tensors='pt', padding=True, truncation=True, max_length=512).to(device)\n",
    "\n",
    "            # Get embeddings for anchor (query), positive, and negative texts\n",
    "            anchor_embedding = model2(model1(**anchor_input).last_hidden_state[:, 0, :])\n",
    "            positive_embedding = model2(model1(**positive_input).last_hidden_state[:, 0, :])\n",
    "            negative_embedding = [model2(model1(**tokenizer(neg, return_tensors='pt', padding=True, truncation=True, max_length=512).to(device)).last_hidden_state[:, 0, :]) for neg in negative_texts]\n",
    "\n",
    "            # Calculate cosine similarities between anchor and all negative examples, and positive example\n",
    "            pos_dist = distance_fn(anchor_embedding, positive_embedding)\n",
    "            neg_dist = torch.stack([distance_fn(anchor_embedding, neg) for neg in negative_embedding], dim=-1)\n",
    "            all_similarities=torch.cat([-pos_dist.unsqueeze(1), -neg_dist], dim=1)\n",
    "\n",
    "            # Rank the similarities for each query (descending order)\n",
    "            sorted_similarities, sorted_indices = torch.sort(all_similarities, dim=1, descending=True)\n",
    "\n",
    "            # Find the rank of the first relevant (positive) document\n",
    "            positive_rank = (sorted_indices == 0).nonzero(as_tuple=True)[1] + 1  # +1 to make rank 1-based\n",
    "            total_rr += torch.sum(1.0 / positive_rank.float()).item()  # Reciprocal rank\n",
    "            num_queries += len(positive_rank)\n",
    "\n",
    "    # Compute the average MRR across all queries\n",
    "    mrr = total_rr / num_queries\n",
    "    return mrr"
   ]
  },
  {
   "cell_type": "code",
   "execution_count": 41,
   "id": "6dfc631b",
   "metadata": {
    "execution": {
     "iopub.execute_input": "2025-01-12T23:09:05.580802Z",
     "iopub.status.busy": "2025-01-12T23:09:05.580568Z",
     "iopub.status.idle": "2025-01-12T23:09:05.582993Z",
     "shell.execute_reply": "2025-01-12T23:09:05.582678Z"
    },
    "papermill": {
     "duration": 0.00809,
     "end_time": "2025-01-12T23:09:05.583634",
     "exception": false,
     "start_time": "2025-01-12T23:09:05.575544",
     "status": "completed"
    },
    "tags": []
   },
   "outputs": [],
   "source": [
    "import os\n",
    "save_dir =\"/dss/dsshome1/07/ra65bex2/srawat\"\n",
    "import time\n",
    "epoch_metrics = []"
   ]
  },
  {
   "cell_type": "code",
   "execution_count": 42,
   "id": "89b3aa70",
   "metadata": {
    "execution": {
     "iopub.execute_input": "2025-01-12T23:09:05.593719Z",
     "iopub.status.busy": "2025-01-12T23:09:05.593489Z",
     "iopub.status.idle": "2025-01-13T00:49:57.951933Z",
     "shell.execute_reply": "2025-01-13T00:49:57.950880Z"
    },
    "papermill": {
     "duration": 6052.372949,
     "end_time": "2025-01-13T00:49:57.961387",
     "exception": false,
     "start_time": "2025-01-12T23:09:05.588438",
     "status": "completed"
    },
    "tags": []
   },
   "outputs": [
    {
     "name": "stdout",
     "output_type": "stream",
     "text": [
      "EPOCH 1:\n",
      "Checkpoint saved: /dss/dsshome1/07/ra65bex2/srawat\n",
      "Epoch 1/3, Loss: 3.29708590538205\n",
      "Epoch 1/3, Contrastive Loss: 1.793434191722215\n",
      "Epoch 1/3, Entailment Loss: 1.503651716985416\n"
     ]
    },
    {
     "name": "stdout",
     "output_type": "stream",
     "text": [
      "Mean Reciprocal Rank (MRR) for validation set: 0.4278\n",
      "Epoch 1 took 33.6773 minutes.\n",
      "\n",
      "\n"
     ]
    },
    {
     "name": "stdout",
     "output_type": "stream",
     "text": [
      "EPOCH 2:\n",
      "Checkpoint saved: /dss/dsshome1/07/ra65bex2/srawat\n",
      "Epoch 2/3, Loss: 3.2264531218442793\n",
      "Epoch 2/3, Contrastive Loss: 1.791737171918026\n",
      "Epoch 2/3, Entailment Loss: 1.4347159482890444\n"
     ]
    },
    {
     "name": "stdout",
     "output_type": "stream",
     "text": [
      "Mean Reciprocal Rank (MRR) for validation set: 0.4265\n",
      "Epoch 2 took 33.6151 minutes.\n",
      "\n",
      "\n"
     ]
    },
    {
     "name": "stdout",
     "output_type": "stream",
     "text": [
      "EPOCH 3:\n",
      "Checkpoint saved: /dss/dsshome1/07/ra65bex2/srawat\n",
      "Epoch 3/3, Loss: 3.219751016878775\n",
      "Epoch 3/3, Contrastive Loss: 1.7917340940671929\n",
      "Epoch 3/3, Entailment Loss: 1.4280169210208844\n"
     ]
    },
    {
     "name": "stdout",
     "output_type": "stream",
     "text": [
      "Mean Reciprocal Rank (MRR) for validation set: 0.4221\n",
      "Epoch 3 took 33.5801 minutes.\n",
      "\n",
      "\n"
     ]
    }
   ],
   "source": [
    "for epoch in range(num_epochs):\n",
    "    start_time = time.time()\n",
    "    lora_model.train()  # Set the model to training mode\n",
    "    hyperbolic_model.train()\n",
    "\n",
    "    total_loss = 0.0\n",
    "    entailment_loss_total=0.0\n",
    "    contrastive_loss_total=0.0\n",
    "    for batch in data_loader_train:\n",
    "        # Extract the anchor, positive, and negative pairs from the batch\n",
    "        anchor_texts = batch[0]\n",
    "        positive_texts = batch[1]\n",
    "        negative_texts = batch[2]\n",
    "        # Tokenize the text pairs and move them to the GPU\n",
    "        anchor_inputs = tokenizer(anchor_texts, return_tensors='pt', padding=True, truncation=True, max_length=512).to(device)\n",
    "        positive_inputs = tokenizer(positive_texts, return_tensors='pt', padding=True, truncation=True, max_length=512).to(device)\n",
    "\n",
    "        # Get embeddings (CLS token representation) from BERT for each input\n",
    "    \n",
    "        anchor_embedding = hyperbolic_model(lora_model(**anchor_inputs).last_hidden_state[:, 0, :])\n",
    "        positive_embedding = hyperbolic_model(lora_model(**positive_inputs).last_hidden_state[:, 0, :])\n",
    "        negative_embedding = [hyperbolic_model(lora_model(**tokenizer(neg, return_tensors='pt', padding=True, truncation=True, max_length=512).to(device)).last_hidden_state[:, 0, :]) for neg in negative_texts]\n",
    "\n",
    "        # Compute the InfoNCE loss\n",
    "        contrastive_loss_value = info_nce_loss(anchor_embedding, positive_embedding, negative_embedding, distance_fn=lorentzian_distance)\n",
    "        \n",
    "        # Compute the entailment loss\n",
    "        entailment_loss_value = entailment_loss(anchor_embedding, positive_embedding)\n",
    "        \n",
    "        loss = contrastive_loss_value + 1*entailment_loss_value\n",
    "\n",
    "        # Backpropagation  \n",
    "        optimizer.zero_grad()  # Clear previous gradients\n",
    "        loss.backward()  # Compute gradients\n",
    "        optimizer.step()  # Update model parameters\n",
    "        \n",
    "        total_loss += loss.item()\n",
    "        entailment_loss_total+=entailment_loss_value.item()\n",
    "        contrastive_loss_total+=contrastive_loss_value.item()\n",
    "    save_path1 = os.path.join(save_dir, f\"1hyperbolic_lora_checkpoint_epoch_{epoch+1}.pth\")\n",
    "    save_path2 = os.path.join(save_dir, f\"1hyperbolic_checkpoint_epoch_{epoch+1}.pth\")\n",
    "    torch.save(lora_model, save_path1)\n",
    "    torch.save(hyperbolic_model, save_path2)\n",
    "    print(f\"EPOCH {epoch+1}:\")\n",
    "    print(f\"Checkpoint saved: {save_dir}\")\n",
    "    print(f\"Epoch {epoch+1}/{num_epochs}, Loss: {total_loss / len(data_loader_train)}\")\n",
    "    print(f\"Epoch {epoch+1}/{num_epochs}, Contrastive Loss: {contrastive_loss_total / len(data_loader_train)}\")\n",
    "    print(f\"Epoch {epoch+1}/{num_epochs}, Entailment Loss: {entailment_loss_total / len(data_loader_train)}\")\n",
    "    mrr_validation = evaluate_mrr(model1=lora_model, model2=hyperbolic_model, data_loader_val=data_loader_val,distance_fn=lorentzian_distance)\n",
    "    #mrr_train = evaluate_mrr(lora_model, data_loader_train, lorentzian_distance)\n",
    "    #print(f\"Mean Reciprocal Rank (MRR) for training set: {mrr_train:.4f}\")\n",
    "    print(f\"Mean Reciprocal Rank (MRR) for validation set: {mrr_validation:.4f}\")\n",
    "    end_time = time.time()\n",
    "    print(f\"Epoch {epoch+1} took {(end_time - start_time) / 60:.4f} minutes.\")\n",
    "    print(f\"\\n\")\n",
    "    epoch_metrics.append({\n",
    "        'epoch': epoch + 1,\n",
    "        'training_loss': total_loss / len(data_loader_train),\n",
    "        'Contrastive_loss': contrastive_loss_total / len(data_loader_train),\n",
    "        'Entailment_loss': entailment_loss_total / len(data_loader_train),\n",
    "        'mrr_validation': mrr_validation,\n",
    "        'time_taken_minutes': (end_time - start_time) / 60\n",
    "    })"
   ]
  },
  {
   "cell_type": "code",
   "execution_count": 43,
   "id": "34817aac",
   "metadata": {
    "execution": {
     "iopub.execute_input": "2025-01-13T00:49:57.975278Z",
     "iopub.status.busy": "2025-01-13T00:49:57.975071Z",
     "iopub.status.idle": "2025-01-13T00:49:57.981065Z",
     "shell.execute_reply": "2025-01-13T00:49:57.980685Z"
    },
    "papermill": {
     "duration": 0.012625,
     "end_time": "2025-01-13T00:49:57.981637",
     "exception": false,
     "start_time": "2025-01-13T00:49:57.969012",
     "status": "completed"
    },
    "tags": []
   },
   "outputs": [],
   "source": [
    "import json\n",
    "with open(save_dir + '/1hyperbolic_epoch_metrics.json', 'w') as f:\n",
    "    json.dump(epoch_metrics, f)"
   ]
  },
  {
   "cell_type": "code",
   "execution_count": null,
   "id": "69204bf8",
   "metadata": {
    "papermill": {
     "duration": 0.004995,
     "end_time": "2025-01-13T00:49:57.991782",
     "exception": false,
     "start_time": "2025-01-13T00:49:57.986787",
     "status": "completed"
    },
    "tags": []
   },
   "outputs": [],
   "source": []
  }
 ],
 "metadata": {
  "kernelspec": {
   "display_name": "Python (myenv)",
   "language": "python",
   "name": "myenv"
  },
  "language_info": {
   "codemirror_mode": {
    "name": "ipython",
    "version": 3
   },
   "file_extension": ".py",
   "mimetype": "text/x-python",
   "name": "python",
   "nbconvert_exporter": "python",
   "pygments_lexer": "ipython3",
   "version": "3.12.7"
  },
  "papermill": {
   "default_parameters": {},
   "duration": 6111.456306,
   "end_time": "2025-01-13T00:50:01.406978",
   "environment_variables": {},
   "exception": null,
   "input_path": "1app_hyperbolic.ipynb",
   "output_path": "1app_hyperbolic_output.ipynb",
   "parameters": {},
   "start_time": "2025-01-12T23:08:09.950672",
   "version": "2.6.0"
  }
 },
 "nbformat": 4,
 "nbformat_minor": 5
}